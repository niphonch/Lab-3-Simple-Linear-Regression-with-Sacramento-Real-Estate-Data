{
 "cells": [
  {
   "cell_type": "markdown",
   "metadata": {},
   "source": [
    "<img src=\"http://imgur.com/1ZcRyrc.png\" style=\"float: left; margin: 20px; height: 55px\">\n",
    "\n",
    "# Simple Linear Regression with Sacramento Real Estate Data\n",
    "\n",
    "---\n",
    "\n",
    "In this lab you will hone your exploratory data analysis (EDA) skills and practice constructing linear regressions on a data set of Sacramento real estate sales.  The data set contains information on qualities of the property, location of the property, and time of sale."
   ]
  },
  {
   "cell_type": "markdown",
   "metadata": {},
   "source": [
    "### 1. Read in the Sacramento housing data set.\n",
    "\n",
    "The file is stored in the `datasets` subfolder."
   ]
  },
  {
   "cell_type": "code",
   "execution_count": 1,
   "metadata": {},
   "outputs": [],
   "source": [
    "# Imports\n",
    "import pandas as pd\n",
    "import matplotlib.pyplot as plt\n",
    "import seaborn as sns\n",
    "import numpy as np\n",
    "\n",
    "#for modeling\n",
    "from sklearn.linear_model import LinearRegression \n",
    "from sklearn.metrics import mean_squared_error\n",
    "from sklearn.model_selection import train_test_split, cross_val_score"
   ]
  },
  {
   "cell_type": "code",
   "execution_count": 2,
   "metadata": {},
   "outputs": [],
   "source": [
    "#read data file\n",
    "sacramento = pd.read_csv(\"./datasets/sacramento_real_estate_transactions.csv\")"
   ]
  },
  {
   "cell_type": "markdown",
   "metadata": {},
   "source": [
    "### 2. Conduct exploratory data analysis on this data set. \n",
    "\n",
    "If you discover any issues with the data, fix them to the best of your ability. Report any notable findings.\n",
    "\n",
    "_**Note:** Zip codes often have leading zeros — e.g., 02215 = Boston, MA — which will often get knocked off automatically by many software programs like Python or Excel._"
   ]
  },
  {
   "cell_type": "code",
   "execution_count": 3,
   "metadata": {
    "scrolled": true
   },
   "outputs": [
    {
     "data": {
      "text/html": [
       "<div>\n",
       "<style scoped>\n",
       "    .dataframe tbody tr th:only-of-type {\n",
       "        vertical-align: middle;\n",
       "    }\n",
       "\n",
       "    .dataframe tbody tr th {\n",
       "        vertical-align: top;\n",
       "    }\n",
       "\n",
       "    .dataframe thead th {\n",
       "        text-align: right;\n",
       "    }\n",
       "</style>\n",
       "<table border=\"1\" class=\"dataframe\">\n",
       "  <thead>\n",
       "    <tr style=\"text-align: right;\">\n",
       "      <th></th>\n",
       "      <th>street</th>\n",
       "      <th>city</th>\n",
       "      <th>zip</th>\n",
       "      <th>state</th>\n",
       "      <th>beds</th>\n",
       "      <th>baths</th>\n",
       "      <th>sq__ft</th>\n",
       "      <th>type</th>\n",
       "      <th>sale_date</th>\n",
       "      <th>price</th>\n",
       "      <th>latitude</th>\n",
       "      <th>longitude</th>\n",
       "    </tr>\n",
       "  </thead>\n",
       "  <tbody>\n",
       "    <tr>\n",
       "      <th>0</th>\n",
       "      <td>3526 HIGH ST</td>\n",
       "      <td>SACRAMENTO</td>\n",
       "      <td>95838</td>\n",
       "      <td>CA</td>\n",
       "      <td>2</td>\n",
       "      <td>1</td>\n",
       "      <td>836</td>\n",
       "      <td>Residential</td>\n",
       "      <td>Wed May 21 00:00:00 EDT 2008</td>\n",
       "      <td>59222</td>\n",
       "      <td>38.631913</td>\n",
       "      <td>-121.434879</td>\n",
       "    </tr>\n",
       "    <tr>\n",
       "      <th>1</th>\n",
       "      <td>51 OMAHA CT</td>\n",
       "      <td>SACRAMENTO</td>\n",
       "      <td>95823</td>\n",
       "      <td>CA</td>\n",
       "      <td>3</td>\n",
       "      <td>1</td>\n",
       "      <td>1167</td>\n",
       "      <td>Residential</td>\n",
       "      <td>Wed May 21 00:00:00 EDT 2008</td>\n",
       "      <td>68212</td>\n",
       "      <td>38.478902</td>\n",
       "      <td>-121.431028</td>\n",
       "    </tr>\n",
       "    <tr>\n",
       "      <th>2</th>\n",
       "      <td>2796 BRANCH ST</td>\n",
       "      <td>SACRAMENTO</td>\n",
       "      <td>95815</td>\n",
       "      <td>CA</td>\n",
       "      <td>2</td>\n",
       "      <td>1</td>\n",
       "      <td>796</td>\n",
       "      <td>Residential</td>\n",
       "      <td>Wed May 21 00:00:00 EDT 2008</td>\n",
       "      <td>68880</td>\n",
       "      <td>38.618305</td>\n",
       "      <td>-121.443839</td>\n",
       "    </tr>\n",
       "    <tr>\n",
       "      <th>3</th>\n",
       "      <td>2805 JANETTE WAY</td>\n",
       "      <td>SACRAMENTO</td>\n",
       "      <td>95815</td>\n",
       "      <td>CA</td>\n",
       "      <td>2</td>\n",
       "      <td>1</td>\n",
       "      <td>852</td>\n",
       "      <td>Residential</td>\n",
       "      <td>Wed May 21 00:00:00 EDT 2008</td>\n",
       "      <td>69307</td>\n",
       "      <td>38.616835</td>\n",
       "      <td>-121.439146</td>\n",
       "    </tr>\n",
       "    <tr>\n",
       "      <th>4</th>\n",
       "      <td>6001 MCMAHON DR</td>\n",
       "      <td>SACRAMENTO</td>\n",
       "      <td>95824</td>\n",
       "      <td>CA</td>\n",
       "      <td>2</td>\n",
       "      <td>1</td>\n",
       "      <td>797</td>\n",
       "      <td>Residential</td>\n",
       "      <td>Wed May 21 00:00:00 EDT 2008</td>\n",
       "      <td>81900</td>\n",
       "      <td>38.519470</td>\n",
       "      <td>-121.435768</td>\n",
       "    </tr>\n",
       "  </tbody>\n",
       "</table>\n",
       "</div>"
      ],
      "text/plain": [
       "             street        city    zip state  beds  baths  sq__ft  \\\n",
       "0      3526 HIGH ST  SACRAMENTO  95838    CA     2      1     836   \n",
       "1       51 OMAHA CT  SACRAMENTO  95823    CA     3      1    1167   \n",
       "2    2796 BRANCH ST  SACRAMENTO  95815    CA     2      1     796   \n",
       "3  2805 JANETTE WAY  SACRAMENTO  95815    CA     2      1     852   \n",
       "4   6001 MCMAHON DR  SACRAMENTO  95824    CA     2      1     797   \n",
       "\n",
       "          type                     sale_date  price   latitude   longitude  \n",
       "0  Residential  Wed May 21 00:00:00 EDT 2008  59222  38.631913 -121.434879  \n",
       "1  Residential  Wed May 21 00:00:00 EDT 2008  68212  38.478902 -121.431028  \n",
       "2  Residential  Wed May 21 00:00:00 EDT 2008  68880  38.618305 -121.443839  \n",
       "3  Residential  Wed May 21 00:00:00 EDT 2008  69307  38.616835 -121.439146  \n",
       "4  Residential  Wed May 21 00:00:00 EDT 2008  81900  38.519470 -121.435768  "
      ]
     },
     "execution_count": 3,
     "metadata": {},
     "output_type": "execute_result"
    }
   ],
   "source": [
    "#checking data sample\n",
    "sacramento.head()"
   ]
  },
  {
   "cell_type": "code",
   "execution_count": 4,
   "metadata": {},
   "outputs": [
    {
     "name": "stdout",
     "output_type": "stream",
     "text": [
      "<class 'pandas.core.frame.DataFrame'>\n",
      "RangeIndex: 985 entries, 0 to 984\n",
      "Data columns (total 12 columns):\n",
      " #   Column     Non-Null Count  Dtype  \n",
      "---  ------     --------------  -----  \n",
      " 0   street     985 non-null    object \n",
      " 1   city       985 non-null    object \n",
      " 2   zip        985 non-null    int64  \n",
      " 3   state      985 non-null    object \n",
      " 4   beds       985 non-null    int64  \n",
      " 5   baths      985 non-null    int64  \n",
      " 6   sq__ft     985 non-null    int64  \n",
      " 7   type       985 non-null    object \n",
      " 8   sale_date  985 non-null    object \n",
      " 9   price      985 non-null    int64  \n",
      " 10  latitude   985 non-null    float64\n",
      " 11  longitude  985 non-null    float64\n",
      "dtypes: float64(2), int64(5), object(5)\n",
      "memory usage: 92.5+ KB\n"
     ]
    }
   ],
   "source": [
    "#checking data information\n",
    "sacramento.info()"
   ]
  },
  {
   "cell_type": "code",
   "execution_count": 8,
   "metadata": {},
   "outputs": [],
   "source": [
    "#the logitude data for California is incorrect. the logitude and lattidue should be positive number. \n",
    "#change logitude data to positive.\n",
    "sacramento['longitude'] = sacramento['longitude'].abs()     \n",
    "sacramento['latitude'] = sacramento['latitude'].abs()     "
   ]
  },
  {
   "cell_type": "code",
   "execution_count": 9,
   "metadata": {},
   "outputs": [
    {
     "name": "stdout",
     "output_type": "stream",
     "text": [
      "<class 'pandas.core.frame.DataFrame'>\n",
      "RangeIndex: 985 entries, 0 to 984\n",
      "Data columns (total 12 columns):\n",
      " #   Column     Non-Null Count  Dtype \n",
      "---  ------     --------------  ----- \n",
      " 0   street     985 non-null    object\n",
      " 1   city       985 non-null    object\n",
      " 2   zip        985 non-null    object\n",
      " 3   state      985 non-null    object\n",
      " 4   beds       985 non-null    int64 \n",
      " 5   baths      985 non-null    int64 \n",
      " 6   sq__ft     985 non-null    int64 \n",
      " 7   type       985 non-null    object\n",
      " 8   sale_date  985 non-null    object\n",
      " 9   price      985 non-null    int64 \n",
      " 10  latitude   985 non-null    object\n",
      " 11  longitude  985 non-null    object\n",
      "dtypes: int64(4), object(8)\n",
      "memory usage: 92.5+ KB\n"
     ]
    }
   ],
   "source": [
    "#change data type of Zip code from int64 to object\n",
    "#change data type of longitude and latitude from float to object\n",
    "sacramento['zip'] = sacramento['zip'].astype('object')\n",
    "sacramento['latitude'] = sacramento['latitude'].astype('object')\n",
    "sacramento['longitude'] = sacramento['longitude'].astype('object')\n",
    "sacramento.info()"
   ]
  },
  {
   "cell_type": "code",
   "execution_count": 10,
   "metadata": {},
   "outputs": [
    {
     "data": {
      "text/plain": [
       "street       0\n",
       "city         0\n",
       "zip          0\n",
       "state        0\n",
       "beds         0\n",
       "baths        0\n",
       "sq__ft       0\n",
       "type         0\n",
       "sale_date    0\n",
       "price        0\n",
       "latitude     0\n",
       "longitude    0\n",
       "dtype: int64"
      ]
     },
     "execution_count": 10,
     "metadata": {},
     "output_type": "execute_result"
    }
   ],
   "source": [
    "#checking missing values\n",
    "sacramento.isnull().sum()"
   ]
  },
  {
   "cell_type": "code",
   "execution_count": 11,
   "metadata": {},
   "outputs": [
    {
     "data": {
      "text/plain": [
       "8306 CURLEW CT         2\n",
       "4734 14TH AVE          2\n",
       "1223 LAMBERTON CIR     2\n",
       "7 CRYSTALWOOD CIR      2\n",
       "3526 HIGH ST           1\n",
       "                      ..\n",
       "2981 WRINGER DR        1\n",
       "8616 ROCKPORTE CT      1\n",
       "4128 HILL ST           1\n",
       "1409 47TH ST           1\n",
       "3882 YELLOWSTONE LN    1\n",
       "Name: street, Length: 981, dtype: int64"
      ]
     },
     "execution_count": 11,
     "metadata": {},
     "output_type": "execute_result"
    }
   ],
   "source": [
    "#checking values of data columns\n",
    "sacramento['street'].value_counts()"
   ]
  },
  {
   "cell_type": "code",
   "execution_count": 12,
   "metadata": {},
   "outputs": [
    {
     "data": {
      "text/plain": [
       "CA    984\n",
       "AC      1\n",
       "Name: state, dtype: int64"
      ]
     },
     "execution_count": 12,
     "metadata": {},
     "output_type": "execute_result"
    }
   ],
   "source": [
    "sacramento['state'].value_counts()"
   ]
  },
  {
   "cell_type": "code",
   "execution_count": 13,
   "metadata": {},
   "outputs": [],
   "source": [
    "#the values of street are very diverse and unique, thus this coulumn won't be used in making prediction\n",
    "#there are only two values of state (one value could be wrongly input), thus this coulumn won't be used in making prediction\n",
    "sacramento.drop(['street', 'state'], axis=1, inplace=True)"
   ]
  },
  {
   "cell_type": "code",
   "execution_count": 14,
   "metadata": {},
   "outputs": [
    {
     "data": {
      "text/plain": [
       "SACRAMENTO         439\n",
       "ELK GROVE          114\n",
       "LINCOLN             72\n",
       "ROSEVILLE           48\n",
       "CITRUS HEIGHTS      35\n",
       "ANTELOPE            33\n",
       "RANCHO CORDOVA      28\n",
       "EL DORADO HILLS     23\n",
       "GALT                21\n",
       "NORTH HIGHLANDS     21\n",
       "CARMICHAEL          20\n",
       "FOLSOM              17\n",
       "ROCKLIN             17\n",
       "RIO LINDA           13\n",
       "ORANGEVALE          11\n",
       "PLACERVILLE         10\n",
       "CAMERON PARK         9\n",
       "FAIR OAKS            9\n",
       "WILTON               5\n",
       "AUBURN               5\n",
       "GOLD RIVER           4\n",
       "ELVERTA              4\n",
       "WEST SACRAMENTO      3\n",
       "RANCHO MURIETA       3\n",
       "POLLOCK PINES        3\n",
       "GRANITE BAY          3\n",
       "LOOMIS               2\n",
       "EL DORADO            2\n",
       "MATHER               1\n",
       "PENRYN               1\n",
       "MEADOW VISTA         1\n",
       "FORESTHILL           1\n",
       "DIAMOND SPRINGS      1\n",
       "SHINGLE SPRINGS      1\n",
       "COOL                 1\n",
       "WALNUT GROVE         1\n",
       "GARDEN VALLEY        1\n",
       "SLOUGHHOUSE          1\n",
       "GREENWOOD            1\n",
       "Name: city, dtype: int64"
      ]
     },
     "execution_count": 14,
     "metadata": {},
     "output_type": "execute_result"
    }
   ],
   "source": [
    "#checking values of data columns\n",
    "sacramento['city'].value_counts()"
   ]
  },
  {
   "cell_type": "code",
   "execution_count": 15,
   "metadata": {},
   "outputs": [],
   "source": [
    "#the majority of houses sold are in SACRAMENTO and ELK GROVE, there are a few house sold in other city.\n",
    "# to avoid too many categories in the city columns, grouping data of city into three groups SACRAMENTO,  ELK GROVE and others\n",
    "sacramento.loc[(sacramento['city'] != 'SACRAMENTO') & (sacramento['city'] != 'ELK GROVE'),'city'] = 'other'  "
   ]
  },
  {
   "cell_type": "code",
   "execution_count": 16,
   "metadata": {},
   "outputs": [
    {
     "data": {
      "image/png": "[encoded data removed]",
      "text/plain": [
       "<Figure size 432x288 with 1 Axes>"
      ]
     },
     "metadata": {
      "needs_background": "light"
     },
     "output_type": "display_data"
    }
   ],
   "source": [
    "sns.countplot(x='city', data=sacramento)\n",
    "plt.title('Number of house sold by city')\n",
    "plt.show()"
   ]
  },
  {
   "cell_type": "code",
   "execution_count": 17,
   "metadata": {},
   "outputs": [
    {
     "data": {
      "text/plain": [
       "95648    72\n",
       "95823    61\n",
       "95828    45\n",
       "95758    44\n",
       "95838    37\n",
       "         ..\n",
       "95619     1\n",
       "95614     1\n",
       "95690     1\n",
       "95633     1\n",
       "95722     1\n",
       "Name: zip, Length: 68, dtype: int64"
      ]
     },
     "execution_count": 17,
     "metadata": {},
     "output_type": "execute_result"
    }
   ],
   "source": [
    "sacramento['zip'].value_counts()"
   ]
  },
  {
   "cell_type": "code",
   "execution_count": 18,
   "metadata": {},
   "outputs": [
    {
     "data": {
      "text/plain": [
       "68"
      ]
     },
     "execution_count": 18,
     "metadata": {},
     "output_type": "execute_result"
    }
   ],
   "source": [
    "sacramento['zip'].nunique()"
   ]
  },
  {
   "cell_type": "code",
   "execution_count": 19,
   "metadata": {},
   "outputs": [
    {
     "data": {
      "text/plain": [
       "Residential     917\n",
       "Condo            54\n",
       "Multi-Family     13\n",
       "Unkown            1\n",
       "Name: type, dtype: int64"
      ]
     },
     "execution_count": 19,
     "metadata": {},
     "output_type": "execute_result"
    }
   ],
   "source": [
    "#checking values of data columns\n",
    "sacramento['type'].value_counts()"
   ]
  },
  {
   "cell_type": "code",
   "execution_count": 20,
   "metadata": {},
   "outputs": [],
   "source": [
    "#Delete data contain Unknown in type column \n",
    "sacramento = sacramento[sacramento['type'] != 'Unkown']"
   ]
  },
  {
   "cell_type": "code",
   "execution_count": 21,
   "metadata": {},
   "outputs": [
    {
     "data": {
      "image/png": "[encoded data removed]",
      "text/plain": [
       "<Figure size 432x288 with 1 Axes>"
      ]
     },
     "metadata": {
      "needs_background": "light"
     },
     "output_type": "display_data"
    }
   ],
   "source": [
    "sns.countplot(x='type', data=sacramento)\n",
    "plt.title('Number of house sold by type')\n",
    "plt.show()"
   ]
  },
  {
   "cell_type": "code",
   "execution_count": 22,
   "metadata": {},
   "outputs": [
    {
     "data": {
      "text/html": [
       "<div>\n",
       "<style scoped>\n",
       "    .dataframe tbody tr th:only-of-type {\n",
       "        vertical-align: middle;\n",
       "    }\n",
       "\n",
       "    .dataframe tbody tr th {\n",
       "        vertical-align: top;\n",
       "    }\n",
       "\n",
       "    .dataframe thead th {\n",
       "        text-align: right;\n",
       "    }\n",
       "</style>\n",
       "<table border=\"1\" class=\"dataframe\">\n",
       "  <thead>\n",
       "    <tr style=\"text-align: right;\">\n",
       "      <th></th>\n",
       "      <th>beds</th>\n",
       "      <th>baths</th>\n",
       "      <th>sq__ft</th>\n",
       "      <th>price</th>\n",
       "    </tr>\n",
       "  </thead>\n",
       "  <tbody>\n",
       "    <tr>\n",
       "      <th>count</th>\n",
       "      <td>984.00</td>\n",
       "      <td>984.00</td>\n",
       "      <td>984.00</td>\n",
       "      <td>984.00</td>\n",
       "    </tr>\n",
       "    <tr>\n",
       "      <th>mean</th>\n",
       "      <td>2.91</td>\n",
       "      <td>1.78</td>\n",
       "      <td>1314.25</td>\n",
       "      <td>233674.00</td>\n",
       "    </tr>\n",
       "    <tr>\n",
       "      <th>std</th>\n",
       "      <td>1.31</td>\n",
       "      <td>0.89</td>\n",
       "      <td>855.53</td>\n",
       "      <td>139153.31</td>\n",
       "    </tr>\n",
       "    <tr>\n",
       "      <th>min</th>\n",
       "      <td>0.00</td>\n",
       "      <td>0.00</td>\n",
       "      <td>-984.00</td>\n",
       "      <td>-210944.00</td>\n",
       "    </tr>\n",
       "    <tr>\n",
       "      <th>25%</th>\n",
       "      <td>2.00</td>\n",
       "      <td>1.00</td>\n",
       "      <td>951.50</td>\n",
       "      <td>145000.00</td>\n",
       "    </tr>\n",
       "    <tr>\n",
       "      <th>50%</th>\n",
       "      <td>3.00</td>\n",
       "      <td>2.00</td>\n",
       "      <td>1304.00</td>\n",
       "      <td>213723.50</td>\n",
       "    </tr>\n",
       "    <tr>\n",
       "      <th>75%</th>\n",
       "      <td>4.00</td>\n",
       "      <td>2.00</td>\n",
       "      <td>1718.50</td>\n",
       "      <td>300000.00</td>\n",
       "    </tr>\n",
       "    <tr>\n",
       "      <th>max</th>\n",
       "      <td>8.00</td>\n",
       "      <td>5.00</td>\n",
       "      <td>5822.00</td>\n",
       "      <td>884790.00</td>\n",
       "    </tr>\n",
       "  </tbody>\n",
       "</table>\n",
       "</div>"
      ],
      "text/plain": [
       "         beds   baths   sq__ft      price\n",
       "count  984.00  984.00   984.00     984.00\n",
       "mean     2.91    1.78  1314.25  233674.00\n",
       "std      1.31    0.89   855.53  139153.31\n",
       "min      0.00    0.00  -984.00 -210944.00\n",
       "25%      2.00    1.00   951.50  145000.00\n",
       "50%      3.00    2.00  1304.00  213723.50\n",
       "75%      4.00    2.00  1718.50  300000.00\n",
       "max      8.00    5.00  5822.00  884790.00"
      ]
     },
     "execution_count": 22,
     "metadata": {},
     "output_type": "execute_result"
    }
   ],
   "source": [
    "#checking simple statistics \n",
    "sacramento.describe().round(2)"
   ]
  },
  {
   "cell_type": "code",
   "execution_count": 23,
   "metadata": {},
   "outputs": [
    {
     "data": {
      "image/png": "[encoded data removed]",
      "text/plain": [
       "<Figure size 432x288 with 1 Axes>"
      ]
     },
     "metadata": {
      "needs_background": "light"
     },
     "output_type": "display_data"
    }
   ],
   "source": [
    "#exploring extreme outliers\n",
    "sns.boxplot( x ='price', data=sacramento);"
   ]
  },
  {
   "cell_type": "code",
   "execution_count": 24,
   "metadata": {
    "scrolled": true
   },
   "outputs": [
    {
     "data": {
      "image/png": "[encoded data removed]",
      "text/plain": [
       "<Figure size 432x288 with 1 Axes>"
      ]
     },
     "metadata": {
      "needs_background": "light"
     },
     "output_type": "display_data"
    },
    {
     "data": {
      "image/png": "[encoded data removed]",
      "text/plain": [
       "<Figure size 432x288 with 1 Axes>"
      ]
     },
     "metadata": {
      "needs_background": "light"
     },
     "output_type": "display_data"
    }
   ],
   "source": [
    "sns.boxplot(x='beds', y='price', data=sacramento)\n",
    "plt.title('Boxplot of Price by number of bedrooms')\n",
    "plt.show()\n",
    "sns.boxplot(x='baths', y='price', data=sacramento)\n",
    "plt.title('Boxplot of Price by number of bathrooms')\n",
    "plt.show()"
   ]
  },
  {
   "cell_type": "code",
   "execution_count": 25,
   "metadata": {},
   "outputs": [],
   "source": [
    "#There are some extreme outliers, and potentially worng"
   ]
  },
  {
   "cell_type": "code",
   "execution_count": 26,
   "metadata": {},
   "outputs": [
    {
     "data": {
      "image/png": "[encoded data removed]",
      "text/plain": [
       "<Figure size 432x288 with 1 Axes>"
      ]
     },
     "metadata": {
      "needs_background": "light"
     },
     "output_type": "display_data"
    }
   ],
   "source": [
    "#checking price distribution\n",
    "plt.hist(sacramento['price'], bins=50)\n",
    "plt.title('Price distribution')\n",
    "plt.show()"
   ]
  },
  {
   "cell_type": "code",
   "execution_count": 27,
   "metadata": {
    "scrolled": true
   },
   "outputs": [
    {
     "data": {
      "text/html": [
       "<div>\n",
       "<style scoped>\n",
       "    .dataframe tbody tr th:only-of-type {\n",
       "        vertical-align: middle;\n",
       "    }\n",
       "\n",
       "    .dataframe tbody tr th {\n",
       "        vertical-align: top;\n",
       "    }\n",
       "\n",
       "    .dataframe thead th {\n",
       "        text-align: right;\n",
       "    }\n",
       "</style>\n",
       "<table border=\"1\" class=\"dataframe\">\n",
       "  <thead>\n",
       "    <tr style=\"text-align: right;\">\n",
       "      <th></th>\n",
       "      <th>city</th>\n",
       "      <th>zip</th>\n",
       "      <th>beds</th>\n",
       "      <th>baths</th>\n",
       "      <th>sq__ft</th>\n",
       "      <th>type</th>\n",
       "      <th>sale_date</th>\n",
       "      <th>price</th>\n",
       "      <th>latitude</th>\n",
       "      <th>longitude</th>\n",
       "    </tr>\n",
       "  </thead>\n",
       "  <tbody>\n",
       "    <tr>\n",
       "      <th>703</th>\n",
       "      <td>SACRAMENTO</td>\n",
       "      <td>95835</td>\n",
       "      <td>1</td>\n",
       "      <td>1</td>\n",
       "      <td>-984</td>\n",
       "      <td>Condo</td>\n",
       "      <td>Fri May 16 00:00:00 EDT 2008</td>\n",
       "      <td>-210944</td>\n",
       "      <td>121.503471</td>\n",
       "      <td>38.668433</td>\n",
       "    </tr>\n",
       "  </tbody>\n",
       "</table>\n",
       "</div>"
      ],
      "text/plain": [
       "           city    zip  beds  baths  sq__ft   type  \\\n",
       "703  SACRAMENTO  95835     1      1    -984  Condo   \n",
       "\n",
       "                        sale_date   price    latitude  longitude  \n",
       "703  Fri May 16 00:00:00 EDT 2008 -210944  121.503471  38.668433  "
      ]
     },
     "execution_count": 27,
     "metadata": {},
     "output_type": "execute_result"
    }
   ],
   "source": [
    "#checking for potentially wrong input \n",
    "sacramento[sacramento['price'] <=0]"
   ]
  },
  {
   "cell_type": "code",
   "execution_count": 28,
   "metadata": {},
   "outputs": [],
   "source": [
    "#the data index 703 has input of sq__ft and price as negative integer which could be error input\n",
    "#change negative integer of price and sq__ft to positive interger\n",
    "sacramento['price'] = sacramento['price'].abs()        \n",
    "sacramento['sq__ft'] = sacramento['sq__ft'].abs()    "
   ]
  },
  {
   "cell_type": "code",
   "execution_count": 29,
   "metadata": {},
   "outputs": [],
   "source": [
    "#the data index 703 also had switched input for latitude and longitude\n",
    "#switch values between latitude and longitude for data indexing 703\n",
    "sacramento.loc[703,['latitude','longitude']]=sacramento.loc[703,['longitude','latitude']].values"
   ]
  },
  {
   "cell_type": "code",
   "execution_count": 30,
   "metadata": {},
   "outputs": [
    {
     "data": {
      "text/plain": [
       "city                           SACRAMENTO\n",
       "zip                                 95835\n",
       "beds                                    1\n",
       "baths                                   1\n",
       "sq__ft                                984\n",
       "type                                Condo\n",
       "sale_date    Fri May 16 00:00:00 EDT 2008\n",
       "price                              210944\n",
       "latitude                        38.668433\n",
       "longitude                      121.503471\n",
       "Name: 703, dtype: object"
      ]
     },
     "execution_count": 30,
     "metadata": {},
     "output_type": "execute_result"
    }
   ],
   "source": [
    "#checking data index 703\n",
    "sacramento.loc[703]"
   ]
  },
  {
   "cell_type": "code",
   "execution_count": 31,
   "metadata": {},
   "outputs": [
    {
     "data": {
      "image/png": "[encoded data removed]",
      "text/plain": [
       "<Figure size 576x576 with 1 Axes>"
      ]
     },
     "metadata": {
      "needs_background": "light"
     },
     "output_type": "display_data"
    }
   ],
   "source": [
    "# Checking location of house sold \n",
    "plt.figure(figsize = (8,8))\n",
    "plt.scatter(sacramento['latitude'] , sacramento['longitude'], s=3)\n",
    "plt.title('Geolocation of houses in relative to down town area')\n",
    "plt.xlabel('latitude')\n",
    "plt.ylabel('longitude')\n",
    "plt.axhline(121.49552187832649, color=\"orange\")\n",
    "plt.axvline(38.577364898654125, color=\"orange\")\n",
    "plt.show()"
   ]
  },
  {
   "cell_type": "code",
   "execution_count": 32,
   "metadata": {},
   "outputs": [
    {
     "data": {
      "image/png": "[encoded data removed]",
      "text/plain": [
       "<Figure size 432x288 with 1 Axes>"
      ]
     },
     "metadata": {
      "needs_background": "light"
     },
     "output_type": "display_data"
    }
   ],
   "source": [
    "#exploring extreme outliers\n",
    "sns.boxplot( x ='price', data=sacramento)\n",
    "plt.title('Boxplot of Price')\n",
    "plt.show()"
   ]
  },
  {
   "cell_type": "code",
   "execution_count": 33,
   "metadata": {
    "scrolled": true
   },
   "outputs": [
    {
     "data": {
      "text/html": [
       "<div>\n",
       "<style scoped>\n",
       "    .dataframe tbody tr th:only-of-type {\n",
       "        vertical-align: middle;\n",
       "    }\n",
       "\n",
       "    .dataframe tbody tr th {\n",
       "        vertical-align: top;\n",
       "    }\n",
       "\n",
       "    .dataframe thead th {\n",
       "        text-align: right;\n",
       "    }\n",
       "</style>\n",
       "<table border=\"1\" class=\"dataframe\">\n",
       "  <thead>\n",
       "    <tr style=\"text-align: right;\">\n",
       "      <th></th>\n",
       "      <th>city</th>\n",
       "      <th>zip</th>\n",
       "      <th>beds</th>\n",
       "      <th>baths</th>\n",
       "      <th>sq__ft</th>\n",
       "      <th>type</th>\n",
       "      <th>sale_date</th>\n",
       "      <th>price</th>\n",
       "      <th>latitude</th>\n",
       "      <th>longitude</th>\n",
       "      <th>day</th>\n",
       "      <th>date</th>\n",
       "      <th>time</th>\n",
       "    </tr>\n",
       "  </thead>\n",
       "  <tbody>\n",
       "    <tr>\n",
       "      <th>0</th>\n",
       "      <td>SACRAMENTO</td>\n",
       "      <td>95838</td>\n",
       "      <td>2</td>\n",
       "      <td>1</td>\n",
       "      <td>836</td>\n",
       "      <td>Residential</td>\n",
       "      <td>Wed May 21 00:00:00 EDT 2008</td>\n",
       "      <td>59222</td>\n",
       "      <td>38.631913</td>\n",
       "      <td>121.434879</td>\n",
       "      <td>Wed</td>\n",
       "      <td>21</td>\n",
       "      <td>00:00:00</td>\n",
       "    </tr>\n",
       "    <tr>\n",
       "      <th>1</th>\n",
       "      <td>SACRAMENTO</td>\n",
       "      <td>95823</td>\n",
       "      <td>3</td>\n",
       "      <td>1</td>\n",
       "      <td>1167</td>\n",
       "      <td>Residential</td>\n",
       "      <td>Wed May 21 00:00:00 EDT 2008</td>\n",
       "      <td>68212</td>\n",
       "      <td>38.478902</td>\n",
       "      <td>121.431028</td>\n",
       "      <td>Wed</td>\n",
       "      <td>21</td>\n",
       "      <td>00:00:00</td>\n",
       "    </tr>\n",
       "    <tr>\n",
       "      <th>2</th>\n",
       "      <td>SACRAMENTO</td>\n",
       "      <td>95815</td>\n",
       "      <td>2</td>\n",
       "      <td>1</td>\n",
       "      <td>796</td>\n",
       "      <td>Residential</td>\n",
       "      <td>Wed May 21 00:00:00 EDT 2008</td>\n",
       "      <td>68880</td>\n",
       "      <td>38.618305</td>\n",
       "      <td>121.443839</td>\n",
       "      <td>Wed</td>\n",
       "      <td>21</td>\n",
       "      <td>00:00:00</td>\n",
       "    </tr>\n",
       "    <tr>\n",
       "      <th>3</th>\n",
       "      <td>SACRAMENTO</td>\n",
       "      <td>95815</td>\n",
       "      <td>2</td>\n",
       "      <td>1</td>\n",
       "      <td>852</td>\n",
       "      <td>Residential</td>\n",
       "      <td>Wed May 21 00:00:00 EDT 2008</td>\n",
       "      <td>69307</td>\n",
       "      <td>38.616835</td>\n",
       "      <td>121.439146</td>\n",
       "      <td>Wed</td>\n",
       "      <td>21</td>\n",
       "      <td>00:00:00</td>\n",
       "    </tr>\n",
       "    <tr>\n",
       "      <th>4</th>\n",
       "      <td>SACRAMENTO</td>\n",
       "      <td>95824</td>\n",
       "      <td>2</td>\n",
       "      <td>1</td>\n",
       "      <td>797</td>\n",
       "      <td>Residential</td>\n",
       "      <td>Wed May 21 00:00:00 EDT 2008</td>\n",
       "      <td>81900</td>\n",
       "      <td>38.51947</td>\n",
       "      <td>121.435768</td>\n",
       "      <td>Wed</td>\n",
       "      <td>21</td>\n",
       "      <td>00:00:00</td>\n",
       "    </tr>\n",
       "  </tbody>\n",
       "</table>\n",
       "</div>"
      ],
      "text/plain": [
       "         city    zip  beds  baths  sq__ft         type  \\\n",
       "0  SACRAMENTO  95838     2      1     836  Residential   \n",
       "1  SACRAMENTO  95823     3      1    1167  Residential   \n",
       "2  SACRAMENTO  95815     2      1     796  Residential   \n",
       "3  SACRAMENTO  95815     2      1     852  Residential   \n",
       "4  SACRAMENTO  95824     2      1     797  Residential   \n",
       "\n",
       "                      sale_date  price   latitude   longitude  day date  \\\n",
       "0  Wed May 21 00:00:00 EDT 2008  59222  38.631913  121.434879  Wed   21   \n",
       "1  Wed May 21 00:00:00 EDT 2008  68212  38.478902  121.431028  Wed   21   \n",
       "2  Wed May 21 00:00:00 EDT 2008  68880  38.618305  121.443839  Wed   21   \n",
       "3  Wed May 21 00:00:00 EDT 2008  69307  38.616835  121.439146  Wed   21   \n",
       "4  Wed May 21 00:00:00 EDT 2008  81900   38.51947  121.435768  Wed   21   \n",
       "\n",
       "       time  \n",
       "0  00:00:00  \n",
       "1  00:00:00  \n",
       "2  00:00:00  \n",
       "3  00:00:00  \n",
       "4  00:00:00  "
      ]
     },
     "execution_count": 33,
     "metadata": {},
     "output_type": "execute_result"
    }
   ],
   "source": [
    "#date time data type is not acceptatble in regression analysis\n",
    "#spliting 'sale_date' to day, month, date time and year\n",
    "#then drop edt columns because it's irrelavant\n",
    "#drop month and year bacause there is only one values\n",
    "sacramento[['day', 'month', 'date', 'time', 'edt', 'year']] = sacramento['sale_date'].str.split(pat = ' ', expand = True)\n",
    "sacramento.drop(columns= ['edt', 'month','year'], inplace=True, axis=1)\n",
    "sacramento.head()"
   ]
  },
  {
   "cell_type": "markdown",
   "metadata": {},
   "source": [
    "#### dealing with data with input as '0'"
   ]
  },
  {
   "cell_type": "code",
   "execution_count": 35,
   "metadata": {
    "scrolled": true
   },
   "outputs": [
    {
     "data": {
      "image/png": "[encoded data removed]",
      "text/plain": [
       "<Figure size 432x288 with 1 Axes>"
      ]
     },
     "metadata": {
      "needs_background": "light"
     },
     "output_type": "display_data"
    }
   ],
   "source": [
    "#checking sq__ft distribution\n",
    "plt.hist(sacramento['sq__ft'], bins=50)\n",
    "plt.title('Distribution of House size in squre feet')\n",
    "plt.show()"
   ]
  },
  {
   "cell_type": "code",
   "execution_count": 36,
   "metadata": {},
   "outputs": [
    {
     "data": {
      "text/html": [
       "<div>\n",
       "<style scoped>\n",
       "    .dataframe tbody tr th:only-of-type {\n",
       "        vertical-align: middle;\n",
       "    }\n",
       "\n",
       "    .dataframe tbody tr th {\n",
       "        vertical-align: top;\n",
       "    }\n",
       "\n",
       "    .dataframe thead th {\n",
       "        text-align: right;\n",
       "    }\n",
       "</style>\n",
       "<table border=\"1\" class=\"dataframe\">\n",
       "  <thead>\n",
       "    <tr style=\"text-align: right;\">\n",
       "      <th></th>\n",
       "      <th>beds</th>\n",
       "      <th>baths</th>\n",
       "      <th>sq__ft</th>\n",
       "      <th>price</th>\n",
       "    </tr>\n",
       "  </thead>\n",
       "  <tbody>\n",
       "    <tr>\n",
       "      <th>count</th>\n",
       "      <td>170.00</td>\n",
       "      <td>170.00</td>\n",
       "      <td>170.0</td>\n",
       "      <td>170.00</td>\n",
       "    </tr>\n",
       "    <tr>\n",
       "      <th>mean</th>\n",
       "      <td>1.34</td>\n",
       "      <td>0.91</td>\n",
       "      <td>0.0</td>\n",
       "      <td>256388.98</td>\n",
       "    </tr>\n",
       "    <tr>\n",
       "      <th>std</th>\n",
       "      <td>1.84</td>\n",
       "      <td>1.25</td>\n",
       "      <td>0.0</td>\n",
       "      <td>204416.52</td>\n",
       "    </tr>\n",
       "    <tr>\n",
       "      <th>min</th>\n",
       "      <td>0.00</td>\n",
       "      <td>0.00</td>\n",
       "      <td>0.0</td>\n",
       "      <td>1551.00</td>\n",
       "    </tr>\n",
       "    <tr>\n",
       "      <th>25%</th>\n",
       "      <td>0.00</td>\n",
       "      <td>0.00</td>\n",
       "      <td>0.0</td>\n",
       "      <td>4897.00</td>\n",
       "    </tr>\n",
       "    <tr>\n",
       "      <th>50%</th>\n",
       "      <td>0.00</td>\n",
       "      <td>0.00</td>\n",
       "      <td>0.0</td>\n",
       "      <td>268875.00</td>\n",
       "    </tr>\n",
       "    <tr>\n",
       "      <th>75%</th>\n",
       "      <td>3.00</td>\n",
       "      <td>2.00</td>\n",
       "      <td>0.0</td>\n",
       "      <td>400000.00</td>\n",
       "    </tr>\n",
       "    <tr>\n",
       "      <th>max</th>\n",
       "      <td>6.00</td>\n",
       "      <td>5.00</td>\n",
       "      <td>0.0</td>\n",
       "      <td>879000.00</td>\n",
       "    </tr>\n",
       "  </tbody>\n",
       "</table>\n",
       "</div>"
      ],
      "text/plain": [
       "         beds   baths  sq__ft      price\n",
       "count  170.00  170.00   170.0     170.00\n",
       "mean     1.34    0.91     0.0  256388.98\n",
       "std      1.84    1.25     0.0  204416.52\n",
       "min      0.00    0.00     0.0    1551.00\n",
       "25%      0.00    0.00     0.0    4897.00\n",
       "50%      0.00    0.00     0.0  268875.00\n",
       "75%      3.00    2.00     0.0  400000.00\n",
       "max      6.00    5.00     0.0  879000.00"
      ]
     },
     "execution_count": 36,
     "metadata": {},
     "output_type": "execute_result"
    }
   ],
   "source": [
    "#checking statics of data that have 0 square feets\n",
    "df = sacramento[sacramento['sq__ft'] <= 0]\n",
    "df.describe().round(2)"
   ]
  },
  {
   "cell_type": "code",
   "execution_count": 37,
   "metadata": {
    "scrolled": true
   },
   "outputs": [
    {
     "data": {
      "image/png": "[encoded data removed]",
      "text/plain": [
       "<Figure size 432x288 with 1 Axes>"
      ]
     },
     "metadata": {
      "needs_background": "light"
     },
     "output_type": "display_data"
    }
   ],
   "source": [
    "#checking number of bedroom distribution\n",
    "plt.hist(sacramento['beds'], bins=10)\n",
    "plt.title('Distribution of Number of bedrooms')\n",
    "plt.show()"
   ]
  },
  {
   "cell_type": "code",
   "execution_count": 38,
   "metadata": {},
   "outputs": [
    {
     "data": {
      "text/html": [
       "<div>\n",
       "<style scoped>\n",
       "    .dataframe tbody tr th:only-of-type {\n",
       "        vertical-align: middle;\n",
       "    }\n",
       "\n",
       "    .dataframe tbody tr th {\n",
       "        vertical-align: top;\n",
       "    }\n",
       "\n",
       "    .dataframe thead th {\n",
       "        text-align: right;\n",
       "    }\n",
       "</style>\n",
       "<table border=\"1\" class=\"dataframe\">\n",
       "  <thead>\n",
       "    <tr style=\"text-align: right;\">\n",
       "      <th></th>\n",
       "      <th>count</th>\n",
       "      <th>mean</th>\n",
       "      <th>median</th>\n",
       "    </tr>\n",
       "    <tr>\n",
       "      <th>beds</th>\n",
       "      <th></th>\n",
       "      <th></th>\n",
       "      <th></th>\n",
       "    </tr>\n",
       "  </thead>\n",
       "  <tbody>\n",
       "    <tr>\n",
       "      <th>0</th>\n",
       "      <td>107</td>\n",
       "      <td>186768.08</td>\n",
       "      <td>194818.0</td>\n",
       "    </tr>\n",
       "    <tr>\n",
       "      <th>1</th>\n",
       "      <td>10</td>\n",
       "      <td>109646.20</td>\n",
       "      <td>103426.0</td>\n",
       "    </tr>\n",
       "    <tr>\n",
       "      <th>2</th>\n",
       "      <td>133</td>\n",
       "      <td>165428.30</td>\n",
       "      <td>136500.0</td>\n",
       "    </tr>\n",
       "    <tr>\n",
       "      <th>3</th>\n",
       "      <td>413</td>\n",
       "      <td>215612.92</td>\n",
       "      <td>195500.0</td>\n",
       "    </tr>\n",
       "    <tr>\n",
       "      <th>4</th>\n",
       "      <td>258</td>\n",
       "      <td>283260.09</td>\n",
       "      <td>251000.0</td>\n",
       "    </tr>\n",
       "    <tr>\n",
       "      <th>5</th>\n",
       "      <td>59</td>\n",
       "      <td>399541.54</td>\n",
       "      <td>375000.0</td>\n",
       "    </tr>\n",
       "    <tr>\n",
       "      <th>6</th>\n",
       "      <td>3</td>\n",
       "      <td>429966.67</td>\n",
       "      <td>300000.0</td>\n",
       "    </tr>\n",
       "    <tr>\n",
       "      <th>8</th>\n",
       "      <td>1</td>\n",
       "      <td>282400.00</td>\n",
       "      <td>282400.0</td>\n",
       "    </tr>\n",
       "  </tbody>\n",
       "</table>\n",
       "</div>"
      ],
      "text/plain": [
       "      count       mean    median\n",
       "beds                            \n",
       "0       107  186768.08  194818.0\n",
       "1        10  109646.20  103426.0\n",
       "2       133  165428.30  136500.0\n",
       "3       413  215612.92  195500.0\n",
       "4       258  283260.09  251000.0\n",
       "5        59  399541.54  375000.0\n",
       "6         3  429966.67  300000.0\n",
       "8         1  282400.00  282400.0"
      ]
     },
     "execution_count": 38,
     "metadata": {},
     "output_type": "execute_result"
    }
   ],
   "source": [
    "#checking the price of 0 bedroom-house comparing to others\n",
    "sacramento.groupby(['beds'])['price'].agg(['count','mean', 'median']).round(2)"
   ]
  },
  {
   "cell_type": "code",
   "execution_count": 39,
   "metadata": {},
   "outputs": [
    {
     "data": {
      "image/png": "[encoded data removed]",
      "text/plain": [
       "<Figure size 432x288 with 1 Axes>"
      ]
     },
     "metadata": {
      "needs_background": "light"
     },
     "output_type": "display_data"
    }
   ],
   "source": [
    "#checking number of bathroom distribution\n",
    "plt.hist(sacramento['baths'], bins=10);\n",
    "plt.title('Distribution of Number of bathrooms')\n",
    "plt.show()"
   ]
  },
  {
   "cell_type": "code",
   "execution_count": 40,
   "metadata": {
    "scrolled": false
   },
   "outputs": [
    {
     "data": {
      "text/html": [
       "<div>\n",
       "<style scoped>\n",
       "    .dataframe tbody tr th:only-of-type {\n",
       "        vertical-align: middle;\n",
       "    }\n",
       "\n",
       "    .dataframe tbody tr th {\n",
       "        vertical-align: top;\n",
       "    }\n",
       "\n",
       "    .dataframe thead th {\n",
       "        text-align: right;\n",
       "    }\n",
       "</style>\n",
       "<table border=\"1\" class=\"dataframe\">\n",
       "  <thead>\n",
       "    <tr style=\"text-align: right;\">\n",
       "      <th></th>\n",
       "      <th>count</th>\n",
       "      <th>mean</th>\n",
       "      <th>median</th>\n",
       "    </tr>\n",
       "    <tr>\n",
       "      <th>baths</th>\n",
       "      <th></th>\n",
       "      <th></th>\n",
       "      <th></th>\n",
       "    </tr>\n",
       "  </thead>\n",
       "  <tbody>\n",
       "    <tr>\n",
       "      <th>0</th>\n",
       "      <td>107</td>\n",
       "      <td>186768.08</td>\n",
       "      <td>194818.0</td>\n",
       "    </tr>\n",
       "    <tr>\n",
       "      <th>1</th>\n",
       "      <td>180</td>\n",
       "      <td>159024.67</td>\n",
       "      <td>130500.0</td>\n",
       "    </tr>\n",
       "    <tr>\n",
       "      <th>2</th>\n",
       "      <td>544</td>\n",
       "      <td>226498.98</td>\n",
       "      <td>210000.0</td>\n",
       "    </tr>\n",
       "    <tr>\n",
       "      <th>3</th>\n",
       "      <td>132</td>\n",
       "      <td>380352.14</td>\n",
       "      <td>346702.0</td>\n",
       "    </tr>\n",
       "    <tr>\n",
       "      <th>4</th>\n",
       "      <td>19</td>\n",
       "      <td>358765.74</td>\n",
       "      <td>320000.0</td>\n",
       "    </tr>\n",
       "    <tr>\n",
       "      <th>5</th>\n",
       "      <td>2</td>\n",
       "      <td>755000.00</td>\n",
       "      <td>755000.0</td>\n",
       "    </tr>\n",
       "  </tbody>\n",
       "</table>\n",
       "</div>"
      ],
      "text/plain": [
       "       count       mean    median\n",
       "baths                            \n",
       "0        107  186768.08  194818.0\n",
       "1        180  159024.67  130500.0\n",
       "2        544  226498.98  210000.0\n",
       "3        132  380352.14  346702.0\n",
       "4         19  358765.74  320000.0\n",
       "5          2  755000.00  755000.0"
      ]
     },
     "execution_count": 40,
     "metadata": {},
     "output_type": "execute_result"
    }
   ],
   "source": [
    "#checking the price of 0 bathroom-house comparing to others\n",
    "sacramento.groupby(['baths'])['price'].agg(['count','mean', 'median']).round(2)"
   ]
  },
  {
   "cell_type": "code",
   "execution_count": 41,
   "metadata": {},
   "outputs": [],
   "source": [
    "#there are 171 data of sq__ft have input as 0  and \n",
    "#there are 171 data of sq__ft have input as 0  and  108 rows of data that containing 0 bathroom and bedroom. "
   ]
  },
  {
   "cell_type": "code",
   "execution_count": 42,
   "metadata": {},
   "outputs": [
    {
     "name": "stderr",
     "output_type": "stream",
     "text": [
      "C:\\Users\\science01\\AppData\\Local\\Temp\\ipykernel_1056\\4207650771.py:4: UserWarning: Boolean Series key will be reindexed to match DataFrame index.\n",
      "  sacramento_drop_0 = sacramento_drop_0[sacramento['beds'] != 0]\n",
      "C:\\Users\\science01\\AppData\\Local\\Temp\\ipykernel_1056\\4207650771.py:5: UserWarning: Boolean Series key will be reindexed to match DataFrame index.\n",
      "  sacramento_drop_0 = sacramento_drop_0[sacramento['baths'] != 0]\n"
     ]
    }
   ],
   "source": [
    "#way 1  deleting : dealing with dealing with data with input as '0'  \n",
    "#delete all data with with input as '0' \n",
    "sacramento_drop_0 = sacramento[sacramento['sq__ft'] != 0]\n",
    "sacramento_drop_0 = sacramento_drop_0[sacramento['beds'] != 0]\n",
    "sacramento_drop_0 = sacramento_drop_0[sacramento['baths'] != 0]"
   ]
  },
  {
   "cell_type": "code",
   "execution_count": 43,
   "metadata": {
    "scrolled": true
   },
   "outputs": [
    {
     "data": {
      "text/html": [
       "<div>\n",
       "<style scoped>\n",
       "    .dataframe tbody tr th:only-of-type {\n",
       "        vertical-align: middle;\n",
       "    }\n",
       "\n",
       "    .dataframe tbody tr th {\n",
       "        vertical-align: top;\n",
       "    }\n",
       "\n",
       "    .dataframe thead th {\n",
       "        text-align: right;\n",
       "    }\n",
       "</style>\n",
       "<table border=\"1\" class=\"dataframe\">\n",
       "  <thead>\n",
       "    <tr style=\"text-align: right;\">\n",
       "      <th></th>\n",
       "      <th>beds</th>\n",
       "      <th>baths</th>\n",
       "      <th>sq__ft</th>\n",
       "      <th>price</th>\n",
       "    </tr>\n",
       "  </thead>\n",
       "  <tbody>\n",
       "    <tr>\n",
       "      <th>count</th>\n",
       "      <td>814.000000</td>\n",
       "      <td>814.000000</td>\n",
       "      <td>814.000000</td>\n",
       "      <td>814.000000</td>\n",
       "    </tr>\n",
       "    <tr>\n",
       "      <th>mean</th>\n",
       "      <td>3.244472</td>\n",
       "      <td>1.960688</td>\n",
       "      <td>1591.146192</td>\n",
       "      <td>229448.369779</td>\n",
       "    </tr>\n",
       "    <tr>\n",
       "      <th>std</th>\n",
       "      <td>0.852137</td>\n",
       "      <td>0.669804</td>\n",
       "      <td>663.841930</td>\n",
       "      <td>119825.576060</td>\n",
       "    </tr>\n",
       "    <tr>\n",
       "      <th>min</th>\n",
       "      <td>1.000000</td>\n",
       "      <td>1.000000</td>\n",
       "      <td>484.000000</td>\n",
       "      <td>2000.000000</td>\n",
       "    </tr>\n",
       "    <tr>\n",
       "      <th>25%</th>\n",
       "      <td>3.000000</td>\n",
       "      <td>2.000000</td>\n",
       "      <td>1144.000000</td>\n",
       "      <td>148750.000000</td>\n",
       "    </tr>\n",
       "    <tr>\n",
       "      <th>50%</th>\n",
       "      <td>3.000000</td>\n",
       "      <td>2.000000</td>\n",
       "      <td>1418.500000</td>\n",
       "      <td>207986.500000</td>\n",
       "    </tr>\n",
       "    <tr>\n",
       "      <th>75%</th>\n",
       "      <td>4.000000</td>\n",
       "      <td>2.000000</td>\n",
       "      <td>1851.000000</td>\n",
       "      <td>284973.250000</td>\n",
       "    </tr>\n",
       "    <tr>\n",
       "      <th>max</th>\n",
       "      <td>8.000000</td>\n",
       "      <td>5.000000</td>\n",
       "      <td>5822.000000</td>\n",
       "      <td>884790.000000</td>\n",
       "    </tr>\n",
       "  </tbody>\n",
       "</table>\n",
       "</div>"
      ],
      "text/plain": [
       "             beds       baths       sq__ft          price\n",
       "count  814.000000  814.000000   814.000000     814.000000\n",
       "mean     3.244472    1.960688  1591.146192  229448.369779\n",
       "std      0.852137    0.669804   663.841930  119825.576060\n",
       "min      1.000000    1.000000   484.000000    2000.000000\n",
       "25%      3.000000    2.000000  1144.000000  148750.000000\n",
       "50%      3.000000    2.000000  1418.500000  207986.500000\n",
       "75%      4.000000    2.000000  1851.000000  284973.250000\n",
       "max      8.000000    5.000000  5822.000000  884790.000000"
      ]
     },
     "execution_count": 43,
     "metadata": {},
     "output_type": "execute_result"
    }
   ],
   "source": [
    "sacramento_drop_0.describe()"
   ]
  },
  {
   "cell_type": "code",
   "execution_count": 44,
   "metadata": {},
   "outputs": [],
   "source": [
    "#save the clean dataframe to a new file called sacramento_cleaned and export to CSV file \n",
    "sacramento_drop_0.to_csv('./datasets/sacramento_drop_0.csv', index=False)"
   ]
  },
  {
   "cell_type": "code",
   "execution_count": 45,
   "metadata": {},
   "outputs": [],
   "source": [
    "#way 2  imputing: dealing with data with input as '0' "
   ]
  },
  {
   "cell_type": "code",
   "execution_count": 46,
   "metadata": {},
   "outputs": [],
   "source": [
    "#there are 171 data of sq__ft have input as 0 which is impossible to have a house with 0 squarefeet\n",
    "#dropping 171 data is too much because they are counted as 17.3% of total data \n",
    "#the data also right skewed thus, I decided to replace 0 in sq__ft with median \n",
    "sacramento['sq__ft'] = sacramento['sq__ft'].replace([0],sacramento['sq__ft'].median())"
   ]
  },
  {
   "cell_type": "code",
   "execution_count": 47,
   "metadata": {},
   "outputs": [],
   "source": [
    "#there are 108 rows of data that containing 0 bathroom and bedroom. \n",
    "#The average prices for this group also higher than house that has 1 bahtroom or bedroom\n",
    "#This imply that the number 0 of bathroom and bedroom seems incorrect. \n",
    "#dropping 108 data is too much because they are counted as 10% of total data \n",
    "#thus, both number of bedrooms and bathrooms are imputed with median \n",
    "sacramento['beds'] = sacramento['beds'].replace([0],sacramento['beds'].median())\n",
    "sacramento['baths'] = sacramento['baths'].replace([0],sacramento['baths'].median())"
   ]
  },
  {
   "cell_type": "code",
   "execution_count": 48,
   "metadata": {},
   "outputs": [],
   "source": [
    "#save the dataframe with imputation of 0 values in house size, number of bedrooms, and number of bathroom\n",
    "#to a new file called sacramento_cleaned and export to CSV file \n",
    "sacramento_cleaned_imputed = sacramento\n",
    "sacramento_cleaned_imputed.to_csv('./datasets/sacramento_cleaned_imputed.csv', index=False)"
   ]
  },
  {
   "cell_type": "markdown",
   "metadata": {},
   "source": [
    "### 3. Our goal will be to predict price. List variables that you think qualify as predictors of price in an SLR model.\n",
    "\n",
    "For each of the variables you believe should be considered, generate a plot showing the relationship between the independent and dependent variables."
   ]
  },
  {
   "cell_type": "code",
   "execution_count": 49,
   "metadata": {},
   "outputs": [
    {
     "data": {
      "image/png": "[encoded data removed]",
      "text/plain": [
       "<Figure size 432x288 with 2 Axes>"
      ]
     },
     "metadata": {
      "needs_background": "light"
     },
     "output_type": "display_data"
    }
   ],
   "source": [
    "sns.heatmap(sacramento_cleaned_imputed.corr()[['price']].sort_values(by = 'price', ascending = False), \n",
    "                cmap = 'coolwarm',\n",
    "                vmax = 1,\n",
    "                vmin = -1,\n",
    "                annot = True)\n",
    "plt.title('Correlation of price and house size, number of bedrooms and bathrooms ')\n",
    "\n",
    "plt.yticks(rotation =0)\n",
    "plt.show()"
   ]
  },
  {
   "cell_type": "code",
   "execution_count": 50,
   "metadata": {},
   "outputs": [
    {
     "data": {
      "image/png": "[encoded data removed]",
      "text/plain": [
       "<Figure size 576x576 with 1 Axes>"
      ]
     },
     "metadata": {
      "needs_background": "light"
     },
     "output_type": "display_data"
    }
   ],
   "source": [
    "#No1 variable as predictors of price in an SLR model: sq__ft\n",
    "plt.figure(figsize = (8,8))\n",
    "plt.scatter(sacramento_cleaned_imputed['sq__ft'], sacramento_cleaned_imputed['price'], s=3)\n",
    "plt.title('Scatter plot between house size in sq ft and price')\n",
    "plt.xlabel('Size (sqrft)')\n",
    "plt.ylabel('Price')\n",
    "plt.show()"
   ]
  },
  {
   "cell_type": "code",
   "execution_count": 51,
   "metadata": {},
   "outputs": [
    {
     "data": {
      "text/plain": [
       "array([[1.        , 0.52442877],\n",
       "       [0.52442877, 1.        ]])"
      ]
     },
     "execution_count": 51,
     "metadata": {},
     "output_type": "execute_result"
    }
   ],
   "source": [
    "np.corrcoef(sacramento_cleaned_imputed['sq__ft'], sacramento_cleaned_imputed['price'])"
   ]
  },
  {
   "cell_type": "code",
   "execution_count": 52,
   "metadata": {},
   "outputs": [
    {
     "data": {
      "image/png": "[encoded data removed]",
      "text/plain": [
       "<Figure size 576x576 with 1 Axes>"
      ]
     },
     "metadata": {
      "needs_background": "light"
     },
     "output_type": "display_data"
    }
   ],
   "source": [
    "#No2 variable as predictors of price in an SLR model: beds\n",
    "plt.figure(figsize = (8,8))\n",
    "plt.scatter(sacramento_cleaned_imputed['beds'], sacramento_cleaned_imputed['price'], s= 3)  \n",
    "plt.title('Scatter plot between number of bedroom and price')\n",
    "plt.xlabel('Number of Bedrooms')\n",
    "plt.ylabel('Price')\n",
    "plt.show()"
   ]
  },
  {
   "cell_type": "code",
   "execution_count": 53,
   "metadata": {},
   "outputs": [
    {
     "data": {
      "text/plain": [
       "array([[1.        , 0.41044465],\n",
       "       [0.41044465, 1.        ]])"
      ]
     },
     "execution_count": 53,
     "metadata": {},
     "output_type": "execute_result"
    }
   ],
   "source": [
    "np.corrcoef(sacramento_cleaned_imputed['beds'], sacramento_cleaned_imputed['price'])"
   ]
  },
  {
   "cell_type": "code",
   "execution_count": 54,
   "metadata": {},
   "outputs": [
    {
     "data": {
      "image/png": "[encoded data removed]",
      "text/plain": [
       "<Figure size 576x576 with 1 Axes>"
      ]
     },
     "metadata": {
      "needs_background": "light"
     },
     "output_type": "display_data"
    }
   ],
   "source": [
    "#No3 variable as predictors of price in an SLR model: baths\n",
    "plt.figure(figsize = (8,8))\n",
    "plt.scatter(sacramento_cleaned_imputed['baths'], sacramento_cleaned_imputed['price'], s= 3) \n",
    "plt.title('Scatter plot between number of bathroom and price')\n",
    "plt.xlabel('Number of Bathooms')\n",
    "plt.ylabel('Price')\n",
    "plt.show()"
   ]
  },
  {
   "cell_type": "code",
   "execution_count": 55,
   "metadata": {},
   "outputs": [
    {
     "data": {
      "text/plain": [
       "array([[1.        , 0.46519605],\n",
       "       [0.46519605, 1.        ]])"
      ]
     },
     "execution_count": 55,
     "metadata": {},
     "output_type": "execute_result"
    }
   ],
   "source": [
    "np.corrcoef(sacramento_cleaned_imputed['baths'], sacramento_cleaned_imputed['price'])"
   ]
  },
  {
   "cell_type": "markdown",
   "metadata": {},
   "source": [
    "### 4. Which variable would be the best predictor of Y in an SLR model? Why?"
   ]
  },
  {
   "cell_type": "code",
   "execution_count": 56,
   "metadata": {},
   "outputs": [],
   "source": [
    "#sq__ft or size of the houses will be the best predictor of  price in an SLR model"
   ]
  },
  {
   "cell_type": "code",
   "execution_count": 57,
   "metadata": {},
   "outputs": [],
   "source": [
    "#because the scatter plot shows possible linear trend with correlation coefficient 0.52"
   ]
  },
  {
   "cell_type": "markdown",
   "metadata": {},
   "source": [
    "### 5. Write a function that will take in two lists, `x` and `y`, and return the intercept and slope coefficients that minimize SSE. \n",
    "\n",
    "`y` is the target variable, and `x` is the predictor variable.\n",
    "\n",
    "**Don't use scikit-learn for this**. Instead, use numpy and scipy.\n",
    "\n",
    "The slope and intercept of simple linear regression can be calculated by using certain summary statistics. In particular, we'll need to know:\n",
    "\n",
    "- $\\bar{x}$, the mean of `x`\n",
    "- $\\bar{y}$, the mean of `y`\n",
    "- $s_{x}$, the standard deviation of `x`\n",
    "- $s_{y}$, the standard deviation of `y`\n",
    "- $r_{xy}$, the correlation of `x` and `y`\n",
    "\n",
    "Given these summary statistics, the **coefficient on `X`** (or the slope) can be given by $\\beta_{1} = r_{xy} * \\frac{s_{y}}{s_{x}}$. The **intercept of the model** can be given by $\\beta_{0} = \\bar{y} - \\beta_{1}\\bar{x}$.\n",
    "\n",
    "Your function should take in `x` and `y`, then use the above summary statistics to calculate the slope and intercept.\n",
    "\n",
    "- **Test your function on price and the variable you determined was the best predictor in Problem 4.**\n",
    "- **Report the slope and intercept.**"
   ]
  },
  {
   "cell_type": "code",
   "execution_count": 58,
   "metadata": {},
   "outputs": [],
   "source": [
    "x = sacramento_cleaned_imputed['sq__ft']\n",
    "y = sacramento_cleaned_imputed['price']"
   ]
  },
  {
   "cell_type": "code",
   "execution_count": 59,
   "metadata": {},
   "outputs": [
    {
     "data": {
      "text/plain": [
       "1541.5376016260163"
      ]
     },
     "execution_count": 59,
     "metadata": {},
     "output_type": "execute_result"
    }
   ],
   "source": [
    "x_bar = x.mean()\n",
    "x_bar"
   ]
  },
  {
   "cell_type": "code",
   "execution_count": 60,
   "metadata": {},
   "outputs": [
    {
     "data": {
      "text/plain": [
       "234102.74390243902"
      ]
     },
     "execution_count": 60,
     "metadata": {},
     "output_type": "execute_result"
    }
   ],
   "source": [
    "y_bar = y.mean()\n",
    "y_bar"
   ]
  },
  {
   "cell_type": "code",
   "execution_count": 61,
   "metadata": {},
   "outputs": [
    {
     "data": {
      "text/plain": [
       "613.408309720468"
      ]
     },
     "execution_count": 61,
     "metadata": {},
     "output_type": "execute_result"
    }
   ],
   "source": [
    "x_std = x.std()\n",
    "x_std"
   ]
  },
  {
   "cell_type": "code",
   "execution_count": 62,
   "metadata": {},
   "outputs": [
    {
     "data": {
      "text/plain": [
       "138430.0611958662"
      ]
     },
     "execution_count": 62,
     "metadata": {},
     "output_type": "execute_result"
    }
   ],
   "source": [
    "y_std = y.std()\n",
    "y_std"
   ]
  },
  {
   "cell_type": "code",
   "execution_count": 63,
   "metadata": {},
   "outputs": [
    {
     "data": {
      "text/plain": [
       "0.5244287659197497"
      ]
     },
     "execution_count": 63,
     "metadata": {},
     "output_type": "execute_result"
    }
   ],
   "source": [
    "r_xy = x.corr(y)    \n",
    "r_xy"
   ]
  },
  {
   "cell_type": "code",
   "execution_count": 64,
   "metadata": {},
   "outputs": [
    {
     "data": {
      "text/plain": [
       "118.34972726767606"
      ]
     },
     "execution_count": 64,
     "metadata": {},
     "output_type": "execute_result"
    }
   ],
   "source": [
    "#coefficient on X  or slope\n",
    "b1 = r_xy*y_std/x_std\n",
    "b1"
   ]
  },
  {
   "cell_type": "code",
   "execution_count": 65,
   "metadata": {},
   "outputs": [
    {
     "data": {
      "text/plain": [
       "51662.18917713253"
      ]
     },
     "execution_count": 65,
     "metadata": {},
     "output_type": "execute_result"
    }
   ],
   "source": [
    "#intercept of the model \n",
    "b0 = y_bar -b1*x_bar\n",
    "b0"
   ]
  },
  {
   "cell_type": "code",
   "execution_count": 66,
   "metadata": {},
   "outputs": [],
   "source": [
    "#apply the model\n",
    "y_predicted = b0 +b1*x"
   ]
  },
  {
   "cell_type": "code",
   "execution_count": 67,
   "metadata": {},
   "outputs": [],
   "source": [
    "# calculate rediduals\n",
    "resids = y - y_predicted\n",
    "resids_sqr = resids**2"
   ]
  },
  {
   "cell_type": "code",
   "execution_count": 68,
   "metadata": {},
   "outputs": [
    {
     "data": {
      "text/plain": [
       "13878481601.50011"
      ]
     },
     "execution_count": 68,
     "metadata": {},
     "output_type": "execute_result"
    }
   ],
   "source": [
    "# Compute the MSE  \n",
    "mse = resids_sqr.mean()\n",
    "mse"
   ]
  },
  {
   "cell_type": "code",
   "execution_count": 69,
   "metadata": {},
   "outputs": [
    {
     "data": {
      "text/plain": [
       "117806.96754224731"
      ]
     },
     "execution_count": 69,
     "metadata": {},
     "output_type": "execute_result"
    }
   ],
   "source": [
    "# Compute the RMSE  \n",
    "rmse = mse**0.5\n",
    "rmse"
   ]
  },
  {
   "cell_type": "code",
   "execution_count": 70,
   "metadata": {},
   "outputs": [
    {
     "data": {
      "text/plain": [
       "0.27502553052411394"
      ]
     },
     "execution_count": 70,
     "metadata": {},
     "output_type": "execute_result"
    }
   ],
   "source": [
    "# comparing to the null MSE\n",
    "null_mse = np.mean ((y-y_bar)**2)\n",
    "# The R2 \n",
    "r2 = 1-mse/null_mse\n",
    "r2"
   ]
  },
  {
   "cell_type": "code",
   "execution_count": 71,
   "metadata": {},
   "outputs": [
    {
     "name": "stdout",
     "output_type": "stream",
     "text": [
      "Model intercept: 51662.19\n",
      "Model coefficient: 118.35\n"
     ]
    }
   ],
   "source": [
    "print(f'Model intercept: {round(b0,2)}')\n",
    "print(f'Model coefficient: {round(b1,2)}')"
   ]
  },
  {
   "cell_type": "markdown",
   "metadata": {},
   "source": [
    "### 6. Interpret the intercept and the slope."
   ]
  },
  {
   "cell_type": "code",
   "execution_count": 72,
   "metadata": {},
   "outputs": [],
   "source": [
    "#For every 1 square feet increase in size of house , we expect  house price  to increase by $118.3."
   ]
  },
  {
   "cell_type": "markdown",
   "metadata": {},
   "source": [
    "### 7. Give an example of how this model could be used for prediction and how it could be used for inference. \n",
    "\n",
    "**Be sure to make it clear which example is associated with prediction and which is associated with inference.**"
   ]
  },
  {
   "cell_type": "code",
   "execution_count": null,
   "metadata": {},
   "outputs": [],
   "source": [
    "#Model intercept: 51662.19\n",
    "#Model coefficient: 118.35\n",
    "#Applying regression model to make an inference.\n",
    "    #The regression model can be used to explain how much price of a house in sacramento in May 2008 depends on the size of house. \n",
    "    \n",
    "#Applying regression model to make an prediction\n",
    "    # #The regression model can be used to predict the house price based on the size of house in the future (after May 2008) "
   ]
  },
  {
   "cell_type": "markdown",
   "metadata": {},
   "source": [
    "### 8: Using the model you came up with in Problem 5, calculate and plot the residuals."
   ]
  },
  {
   "cell_type": "code",
   "execution_count": 73,
   "metadata": {},
   "outputs": [],
   "source": [
    "y_predicts = b0 + b1*x\n",
    "residuals = y - y_predicts "
   ]
  },
  {
   "cell_type": "code",
   "execution_count": 74,
   "metadata": {},
   "outputs": [
    {
     "data": {
      "text/plain": [
       "Text(0, 0.5, 'residuals')"
      ]
     },
     "execution_count": 74,
     "metadata": {},
     "output_type": "execute_result"
    },
    {
     "data": {
      "image/png": "[encoded data removed]",
      "text/plain": [
       "<Figure size 432x288 with 1 Axes>"
      ]
     },
     "metadata": {
      "needs_background": "light"
     },
     "output_type": "display_data"
    }
   ],
   "source": [
    "plt.scatter(y_predicts, residuals, s=1)\n",
    "plt.axhline(0, color=\"orange\")\n",
    "plt.title('Scatter plot between predicted price and residuals')\n",
    "plt.xlabel('prediction of price')\n",
    "plt.ylabel('residuals')"
   ]
  },
  {
   "cell_type": "code",
   "execution_count": 75,
   "metadata": {
    "scrolled": true
   },
   "outputs": [
    {
     "data": {
      "text/plain": [
       "Text(0, 0.5, 'predicted price')"
      ]
     },
     "execution_count": 75,
     "metadata": {},
     "output_type": "execute_result"
    },
    {
     "data": {
      "image/png": "[encoded data removed]",
      "text/plain": [
       "<Figure size 432x288 with 1 Axes>"
      ]
     },
     "metadata": {
      "needs_background": "light"
     },
     "output_type": "display_data"
    }
   ],
   "source": [
    "plt.scatter(y, y_predicts, s = 1)\n",
    "plt.title('Scatter plot between true price and predicted price')\n",
    "plt.xlabel('true price')\n",
    "plt.ylabel('predicted price')"
   ]
  },
  {
   "cell_type": "markdown",
   "metadata": {},
   "source": [
    "---\n",
    "\n",
    "## Dummy Variables\n",
    "\n",
    "It is important to be cautious with categorical variables, which represent distinct groups or categories, when building a regression. If put in a regression \"as-is,\" categorical variables represented as integers will be treated like *continuous* variables.\n",
    "\n",
    "That is to say, instead of group \"3\" having a different effect on the estimation than group \"1\" it will estimate literally 3 times more than group 1. \n",
    "\n",
    "For example, if occupation category \"1\" represents \"analyst\" and occupation category \"3\" represents \"barista\", and our target variable is salary, if we leave this as a column of integers then barista will always have `beta*3` the effect of analyst.\n",
    "\n",
    "This will almost certainly force the beta coefficient to be something strange and incorrect. Instead, we can re-represent the categories as multiple \"dummy coded\" columns.\n",
    "\n"
   ]
  },
  {
   "cell_type": "markdown",
   "metadata": {},
   "source": [
    "#### A Word of Caution When Creating Dummies\n",
    "\n",
    "Let's touch on precautions we should take when dummy coding.\n",
    "\n",
    "**If you convert a qualitative variable to dummy variables, you want to turn a variable with N categories into N-1 variables.**\n",
    "\n",
    "> **Scenario 1:** Suppose we're working with the variable \"sex\" or \"gender\" with values \"M\" and \"F\". \n",
    "\n",
    "You should include in your model only one variable for \"sex = F\" which takes on 1 if sex is female and 0 if sex is not female! Rather than saying \"a one unit change in X,\" the coefficient associated with \"sex = F\" is interpreted as the average change in Y when sex = F relative to when sex = M.\n",
    "\n",
    "| Female | Male | \n",
    "|-------|------|\n",
    "| 0 | 1 | \n",
    "| 1 | 0 |\n",
    "| 0 | 1 |\n",
    "| 1 | 0 |\n",
    "| 1 | 0 |\n",
    "_As we can see a 1 in the female column indicates a 0 in the male column. And so, we have two columns stating the same information in different ways._\n",
    "\n",
    "> Scenario 2: Suppose we're modeling revenue at a bar for each of the days of the week. We have a column with strings identifying which day of the week this observation occurred in.\n",
    "\n",
    "We might include six of the days as their own variables: \"Monday\", \"Tuesday\", \"Wednesday\", \"Thursday\", \"Friday\", \"Saturday\". **But not all 7 days.**  \n",
    "\n",
    "|Monday | Tuesday | Wednesday | Thursday | Friday | Saturday | \n",
    "|-------|---------|-----------|----------|--------|----------|\n",
    "| 1     | 0       |0          |      0   |0       | 0        | \n",
    "| 0     | 1       |0          |      0   |0       | 0        | \n",
    "| 0     | 0       |1          |      0   |0       | 0        | \n",
    "| 0     | 0       |0          |      1   |0       | 0        | \n",
    "| 0     | 0       |0          |      0   |1       | 0        | \n",
    "| 0     | 0       |0          |      0   |0       | 1        | \n",
    "| 0     | 0       |0          |      0   |0       | 0        | \n",
    "\n",
    "_As humans we can infer from the last row that if its is not Monday, Tuesday, Wednesday, Thursday, Friday or Saturday, it must be Sunday. Models work the same way._\n",
    "\n",
    "The coefficient for Monday is then interpreted as the average change in revenue when \"day = Monday\" relative to \"day = Sunday.\" The coefficient for Tuesday is interpreted as the average change in revenue when \"day = Tuesday\" relative to \"day = Sunday\" and so on.\n",
    "\n",
    "The category you leave out, which the other columns are *relative to*, is often referred to as the **reference category**.\n",
    "\n",
    "### 9. Use the `pd.get_dummies` function to convert the `type` column into dummy-coded variables."
   ]
  },
  {
   "cell_type": "code",
   "execution_count": 76,
   "metadata": {},
   "outputs": [],
   "source": [
    "sacramento_cleaned_imputed = pd.get_dummies(columns=['type'], drop_first =True,  data =sacramento_cleaned_imputed)"
   ]
  },
  {
   "cell_type": "code",
   "execution_count": 77,
   "metadata": {},
   "outputs": [],
   "source": [
    "sacramento_cleaned_imputed.rename \\\n",
    "(columns = {'type_Multi-Family':'type_multi_family', 'type_Residential': 'type_residential'}, inplace = True)"
   ]
  },
  {
   "cell_type": "markdown",
   "metadata": {},
   "source": [
    "### 10. Check the dummy columns you've created. Do they all make sense?\n",
    "\n",
    "Use `.head()` on the new dataframe you've created. Depending on how you cleaned the data earlier in this notebook, there may be a dummy column that needs to be removed. Check that all the columns you've created make sense, and if any of the columns seem to be errors, drop them. If there don't appear to be any errors, then move on to the next step!"
   ]
  },
  {
   "cell_type": "code",
   "execution_count": 78,
   "metadata": {
    "scrolled": false
   },
   "outputs": [
    {
     "data": {
      "text/html": [
       "<div>\n",
       "<style scoped>\n",
       "    .dataframe tbody tr th:only-of-type {\n",
       "        vertical-align: middle;\n",
       "    }\n",
       "\n",
       "    .dataframe tbody tr th {\n",
       "        vertical-align: top;\n",
       "    }\n",
       "\n",
       "    .dataframe thead th {\n",
       "        text-align: right;\n",
       "    }\n",
       "</style>\n",
       "<table border=\"1\" class=\"dataframe\">\n",
       "  <thead>\n",
       "    <tr style=\"text-align: right;\">\n",
       "      <th></th>\n",
       "      <th>city</th>\n",
       "      <th>zip</th>\n",
       "      <th>beds</th>\n",
       "      <th>baths</th>\n",
       "      <th>sq__ft</th>\n",
       "      <th>sale_date</th>\n",
       "      <th>price</th>\n",
       "      <th>latitude</th>\n",
       "      <th>longitude</th>\n",
       "      <th>day</th>\n",
       "      <th>date</th>\n",
       "      <th>time</th>\n",
       "      <th>type_multi_family</th>\n",
       "      <th>type_residential</th>\n",
       "    </tr>\n",
       "  </thead>\n",
       "  <tbody>\n",
       "    <tr>\n",
       "      <th>0</th>\n",
       "      <td>SACRAMENTO</td>\n",
       "      <td>95838</td>\n",
       "      <td>2</td>\n",
       "      <td>1</td>\n",
       "      <td>836</td>\n",
       "      <td>Wed May 21 00:00:00 EDT 2008</td>\n",
       "      <td>59222</td>\n",
       "      <td>38.631913</td>\n",
       "      <td>121.434879</td>\n",
       "      <td>Wed</td>\n",
       "      <td>21</td>\n",
       "      <td>00:00:00</td>\n",
       "      <td>0</td>\n",
       "      <td>1</td>\n",
       "    </tr>\n",
       "    <tr>\n",
       "      <th>1</th>\n",
       "      <td>SACRAMENTO</td>\n",
       "      <td>95823</td>\n",
       "      <td>3</td>\n",
       "      <td>1</td>\n",
       "      <td>1167</td>\n",
       "      <td>Wed May 21 00:00:00 EDT 2008</td>\n",
       "      <td>68212</td>\n",
       "      <td>38.478902</td>\n",
       "      <td>121.431028</td>\n",
       "      <td>Wed</td>\n",
       "      <td>21</td>\n",
       "      <td>00:00:00</td>\n",
       "      <td>0</td>\n",
       "      <td>1</td>\n",
       "    </tr>\n",
       "    <tr>\n",
       "      <th>2</th>\n",
       "      <td>SACRAMENTO</td>\n",
       "      <td>95815</td>\n",
       "      <td>2</td>\n",
       "      <td>1</td>\n",
       "      <td>796</td>\n",
       "      <td>Wed May 21 00:00:00 EDT 2008</td>\n",
       "      <td>68880</td>\n",
       "      <td>38.618305</td>\n",
       "      <td>121.443839</td>\n",
       "      <td>Wed</td>\n",
       "      <td>21</td>\n",
       "      <td>00:00:00</td>\n",
       "      <td>0</td>\n",
       "      <td>1</td>\n",
       "    </tr>\n",
       "    <tr>\n",
       "      <th>3</th>\n",
       "      <td>SACRAMENTO</td>\n",
       "      <td>95815</td>\n",
       "      <td>2</td>\n",
       "      <td>1</td>\n",
       "      <td>852</td>\n",
       "      <td>Wed May 21 00:00:00 EDT 2008</td>\n",
       "      <td>69307</td>\n",
       "      <td>38.616835</td>\n",
       "      <td>121.439146</td>\n",
       "      <td>Wed</td>\n",
       "      <td>21</td>\n",
       "      <td>00:00:00</td>\n",
       "      <td>0</td>\n",
       "      <td>1</td>\n",
       "    </tr>\n",
       "    <tr>\n",
       "      <th>4</th>\n",
       "      <td>SACRAMENTO</td>\n",
       "      <td>95824</td>\n",
       "      <td>2</td>\n",
       "      <td>1</td>\n",
       "      <td>797</td>\n",
       "      <td>Wed May 21 00:00:00 EDT 2008</td>\n",
       "      <td>81900</td>\n",
       "      <td>38.51947</td>\n",
       "      <td>121.435768</td>\n",
       "      <td>Wed</td>\n",
       "      <td>21</td>\n",
       "      <td>00:00:00</td>\n",
       "      <td>0</td>\n",
       "      <td>1</td>\n",
       "    </tr>\n",
       "  </tbody>\n",
       "</table>\n",
       "</div>"
      ],
      "text/plain": [
       "         city    zip  beds  baths  sq__ft                     sale_date  \\\n",
       "0  SACRAMENTO  95838     2      1     836  Wed May 21 00:00:00 EDT 2008   \n",
       "1  SACRAMENTO  95823     3      1    1167  Wed May 21 00:00:00 EDT 2008   \n",
       "2  SACRAMENTO  95815     2      1     796  Wed May 21 00:00:00 EDT 2008   \n",
       "3  SACRAMENTO  95815     2      1     852  Wed May 21 00:00:00 EDT 2008   \n",
       "4  SACRAMENTO  95824     2      1     797  Wed May 21 00:00:00 EDT 2008   \n",
       "\n",
       "   price   latitude   longitude  day date      time  type_multi_family  \\\n",
       "0  59222  38.631913  121.434879  Wed   21  00:00:00                  0   \n",
       "1  68212  38.478902  121.431028  Wed   21  00:00:00                  0   \n",
       "2  68880  38.618305  121.443839  Wed   21  00:00:00                  0   \n",
       "3  69307  38.616835  121.439146  Wed   21  00:00:00                  0   \n",
       "4  81900   38.51947  121.435768  Wed   21  00:00:00                  0   \n",
       "\n",
       "   type_residential  \n",
       "0                 1  \n",
       "1                 1  \n",
       "2                 1  \n",
       "3                 1  \n",
       "4                 1  "
      ]
     },
     "execution_count": 78,
     "metadata": {},
     "output_type": "execute_result"
    }
   ],
   "source": [
    "sacramento_cleaned_imputed.head()"
   ]
  },
  {
   "cell_type": "markdown",
   "metadata": {},
   "source": [
    "### 11. Build what you think may be the best MLR model predicting `price`. \n",
    "\n",
    "Choose at least three variables, and build a model that uses them to predict price. At least one of the variables you choose should be a dummy-coded variable. (This can be one we created before or a new one.) \n",
    "\n",
    "You may need to load in the scikit-learn API:\n",
    "\n",
    "```python\n",
    "from sklearn.linear_model import LinearRegression\n",
    "\n",
    "model = LinearRegression()\n",
    "```"
   ]
  },
  {
   "cell_type": "code",
   "execution_count": 79,
   "metadata": {},
   "outputs": [],
   "source": [
    "#Assemble our X and y variables\n",
    "X=sacramento_cleaned_imputed[['sq__ft', 'beds', 'baths', 'type_multi_family','type_residential']]\n",
    "y = sacramento_cleaned_imputed['price']"
   ]
  },
  {
   "cell_type": "code",
   "execution_count": 80,
   "metadata": {},
   "outputs": [],
   "source": [
    "# Train/Test Split\n",
    "X_train, X_test, y_train, y_test = train_test_split(X, y, random_state= 42) "
   ]
  },
  {
   "cell_type": "code",
   "execution_count": 81,
   "metadata": {},
   "outputs": [
    {
     "data": {
      "text/plain": [
       "LinearRegression()"
      ]
     },
     "execution_count": 81,
     "metadata": {},
     "output_type": "execute_result"
    }
   ],
   "source": [
    "#Instantiate the model/Fit Model\n",
    "from sklearn.linear_model import LinearRegression\n",
    "\n",
    "model = LinearRegression()\n",
    "model.fit(X_train, y_train)"
   ]
  },
  {
   "cell_type": "code",
   "execution_count": 82,
   "metadata": {},
   "outputs": [
    {
     "data": {
      "text/plain": [
       "0.19945333589561365"
      ]
     },
     "execution_count": 82,
     "metadata": {},
     "output_type": "execute_result"
    }
   ],
   "source": [
    "#Baseline score \n",
    "cross_val_score(model, X, y).mean()"
   ]
  },
  {
   "cell_type": "code",
   "execution_count": 83,
   "metadata": {},
   "outputs": [
    {
     "name": "stdout",
     "output_type": "stream",
     "text": [
      "Train R-squared Score: 0.31568743738687466\n"
     ]
    }
   ],
   "source": [
    "# Train Score\n",
    "model.score(X_train, y_train)\n",
    "print(f'Train R-squared Score: {model.score(X_train, y_train)}')"
   ]
  },
  {
   "cell_type": "code",
   "execution_count": 85,
   "metadata": {},
   "outputs": [],
   "source": [
    "#Train scores is better than baseline score\n",
    "# An R^2 value of 0.31 means that 31 % of the variability in housing price is explained by \n",
    "# the house size, number of bedrooms and bathrooms  and type of house in our model\n",
    "# However, the R^2 value of 0.31 indicates the model is underfitting (high bias)"
   ]
  },
  {
   "cell_type": "code",
   "execution_count": 86,
   "metadata": {},
   "outputs": [
    {
     "name": "stdout",
     "output_type": "stream",
     "text": [
      "Test R-squared Score: 0.2847953011434339\n"
     ]
    }
   ],
   "source": [
    "# Test Score\n",
    "model.score(X_test, y_test)\n",
    "print(f'Test R-squared Score: {model.score(X_test, y_test)}')"
   ]
  },
  {
   "cell_type": "code",
   "execution_count": 87,
   "metadata": {},
   "outputs": [],
   "source": [
    "#Test score and train scores are fairly close to each other indicating that variance appears not a concern"
   ]
  },
  {
   "cell_type": "code",
   "execution_count": 88,
   "metadata": {},
   "outputs": [
    {
     "data": {
      "text/plain": [
       "array([0.27599358, 0.31468431, 0.30920001, 0.37080368, 0.2123922 ])"
      ]
     },
     "execution_count": 88,
     "metadata": {},
     "output_type": "execute_result"
    }
   ],
   "source": [
    "# Cross Val Score\n",
    "cross_val_score(model, X_train, y_train, cv =5)"
   ]
  },
  {
   "cell_type": "code",
   "execution_count": 89,
   "metadata": {},
   "outputs": [],
   "source": [
    "# There is relatively medium range of R^2 from cross validation ranging from 0.21 to 0.31), \n",
    "#possibly due to outliers. \n",
    "#The reliabitly of this model might be low. "
   ]
  },
  {
   "cell_type": "code",
   "execution_count": 90,
   "metadata": {},
   "outputs": [],
   "source": [
    "#make prediction\n",
    "y_preds = model.predict(X_test)"
   ]
  },
  {
   "cell_type": "code",
   "execution_count": 91,
   "metadata": {},
   "outputs": [
    {
     "name": "stdout",
     "output_type": "stream",
     "text": [
      "R^2 is : 0.31568743738687466\n",
      "MSE is : 15554835857.127129\n",
      "RMSE is : 124719.02764665514\n"
     ]
    }
   ],
   "source": [
    "#evaluate models with matrics\n",
    "print(f'R^2 is : {model.score(X_train,y_train)}' )\n",
    "print(f'MSE is : {mean_squared_error(y_test, y_preds)}' )\n",
    "print(f'RMSE is : {mean_squared_error(y_test, y_preds, squared = False)}' )"
   ]
  },
  {
   "cell_type": "code",
   "execution_count": 92,
   "metadata": {},
   "outputs": [],
   "source": [
    "#RMSE of 124719 indicate that on average, the prdicted price is $124719 off from the observed price."
   ]
  },
  {
   "cell_type": "code",
   "execution_count": 93,
   "metadata": {},
   "outputs": [
    {
     "name": "stdout",
     "output_type": "stream",
     "text": [
      "Model intercept -20420.30375723107\n"
     ]
    }
   ],
   "source": [
    "#check the model intercept\n",
    "print(f'Model intercept {model.intercept_}')"
   ]
  },
  {
   "cell_type": "code",
   "execution_count": 94,
   "metadata": {},
   "outputs": [
    {
     "data": {
      "text/plain": [
       "sq__ft                  84.774523\n",
       "beds                 -3260.856452\n",
       "baths                60614.589725\n",
       "type_multi_family   -94601.861026\n",
       "type_residential     17095.302280\n",
       "dtype: float64"
      ]
     },
     "execution_count": 94,
     "metadata": {},
     "output_type": "execute_result"
    }
   ],
   "source": [
    "#check the model coefficient\n",
    "pd.Series(model.coef_, index = X.columns)"
   ]
  },
  {
   "cell_type": "markdown",
   "metadata": {},
   "source": [
    "### 12. Plot the true price vs the predicted price to evaluate your MLR visually.\n",
    "\n",
    "You can use matplotlib or seaborn."
   ]
  },
  {
   "cell_type": "code",
   "execution_count": 95,
   "metadata": {},
   "outputs": [
    {
     "data": {
      "image/png": "[encoded data removed]",
      "text/plain": [
       "<Figure size 576x576 with 1 Axes>"
      ]
     },
     "metadata": {
      "needs_background": "light"
     },
     "output_type": "display_data"
    }
   ],
   "source": [
    "#true price vs the predicted price \n",
    "plt.figure(figsize = (8,8))\n",
    "plt.scatter(y_test, y_preds, s= 3) \n",
    "plt.title('Scatter plot between  true price and the predicted price')\n",
    "plt.xlabel('True price')\n",
    "plt.ylabel('Predicted price')\n",
    "plt.show()"
   ]
  },
  {
   "cell_type": "code",
   "execution_count": 96,
   "metadata": {},
   "outputs": [],
   "source": [
    "#There are some cases that has large gap between the true price vs the predicted price \n",
    "#especially houses that have very low true price but has extremely large prdicted price"
   ]
  },
  {
   "cell_type": "markdown",
   "metadata": {},
   "source": [
    "### 13. List the five assumptions for an MLR model. \n",
    "\n",
    "Indicate which ones are the same as the assumptions for an SLR model. "
   ]
  },
  {
   "cell_type": "markdown",
   "metadata": {},
   "source": [
    "    1. Linear relationship: There exists a linear relationship between each predictor variable and the response variable.\n",
    "\n",
    "    2. Normality: The residuals of the model are normally distributed.\n",
    "\n",
    "    3. Independence: The observations are independent.\n",
    "\n",
    "    4. Equal variances (of residuals - AKA Homoscedasticity): The residuals have constant variance at every point in the linear model.\n",
    "\n",
    "    5. No Multicollinearity: None of the predictor variables are highly correlated with each other.\n",
    "    \n",
    "    (numer 1-4 are the same as the assumptions for an SLR model)"
   ]
  },
  {
   "cell_type": "markdown",
   "metadata": {},
   "source": [
    "### 14. Pick at least two assumptions and explain whether or not you believe them to be met for your model, and explain why."
   ]
  },
  {
   "cell_type": "code",
   "execution_count": 97,
   "metadata": {},
   "outputs": [],
   "source": [
    "#Linear relationship"
   ]
  },
  {
   "cell_type": "code",
   "execution_count": 98,
   "metadata": {},
   "outputs": [
    {
     "data": {
      "image/png": "[encoded data removed]",
      "text/plain": [
       "<Figure size 576x576 with 1 Axes>"
      ]
     },
     "metadata": {
      "needs_background": "light"
     },
     "output_type": "display_data"
    }
   ],
   "source": [
    "plt.figure(figsize = (8,8))\n",
    "plt.scatter(X['sq__ft'], y, s= 3) \n",
    "plt.title('Scatter plot between house size and price')\n",
    "plt.xlabel('house size (sqr_ft)')\n",
    "plt.ylabel('Price')\n",
    "plt.show()"
   ]
  },
  {
   "cell_type": "code",
   "execution_count": 99,
   "metadata": {},
   "outputs": [
    {
     "data": {
      "image/png": "[encoded data removed]",
      "text/plain": [
       "<Figure size 576x576 with 1 Axes>"
      ]
     },
     "metadata": {
      "needs_background": "light"
     },
     "output_type": "display_data"
    }
   ],
   "source": [
    "plt.figure(figsize = (8,8))\n",
    "plt.scatter(X['beds'], y, s= 3) \n",
    "plt.title('Scatter plot between number of bedroom and price')\n",
    "plt.xlabel('Number of bedrooms')\n",
    "plt.ylabel('Price')\n",
    "plt.show()"
   ]
  },
  {
   "cell_type": "code",
   "execution_count": 100,
   "metadata": {},
   "outputs": [
    {
     "data": {
      "image/png": "[encoded data removed]",
      "text/plain": [
       "<Figure size 576x576 with 1 Axes>"
      ]
     },
     "metadata": {
      "needs_background": "light"
     },
     "output_type": "display_data"
    }
   ],
   "source": [
    "plt.figure(figsize = (8,8))\n",
    "plt.scatter(X['baths'], y, s= 3) \n",
    "plt.title('Scatter plot between number of bathroom and price')\n",
    "plt.xlabel('Number of Bathooms')\n",
    "plt.ylabel('Price')\n",
    "plt.show()"
   ]
  },
  {
   "cell_type": "code",
   "execution_count": 101,
   "metadata": {},
   "outputs": [],
   "source": [
    "#the relationship between the size of house is relatively linear with price. \n",
    "#But the relationship between number of bedroom and bathroom is not linear with price"
   ]
  },
  {
   "cell_type": "code",
   "execution_count": 102,
   "metadata": {},
   "outputs": [
    {
     "data": {
      "image/png": "[encoded data removed]",
      "text/plain": [
       "<Figure size 576x576 with 1 Axes>"
      ]
     },
     "metadata": {
      "needs_background": "light"
     },
     "output_type": "display_data"
    }
   ],
   "source": [
    "#Normality\n",
    "plt.figure(figsize = (8,8))\n",
    "resids = y_test - y_preds\n",
    "plt.hist(resids, bins = 50)\n",
    "plt.title('Distribution of residuals')\n",
    "plt.show()"
   ]
  },
  {
   "cell_type": "code",
   "execution_count": 103,
   "metadata": {},
   "outputs": [
    {
     "data": {
      "text/plain": [
       "-0.03338391864826863"
      ]
     },
     "execution_count": 103,
     "metadata": {},
     "output_type": "execute_result"
    }
   ],
   "source": [
    "resids.skew()"
   ]
  },
  {
   "cell_type": "code",
   "execution_count": 104,
   "metadata": {},
   "outputs": [],
   "source": [
    "#The normality assumption might be violated since the residual is relatively left skewed."
   ]
  },
  {
   "cell_type": "code",
   "execution_count": 105,
   "metadata": {},
   "outputs": [
    {
     "data": {
      "image/png": "[encoded data removed]",
      "text/plain": [
       "<Figure size 576x576 with 1 Axes>"
      ]
     },
     "metadata": {
      "needs_background": "light"
     },
     "output_type": "display_data"
    }
   ],
   "source": [
    "#Equal variances\n",
    "plt.figure(figsize = (8,8))\n",
    "plt.scatter(y_preds, resids, s=1)\n",
    "plt.axhline(0, color ='orange')\n",
    "plt.title('Scatter plot between predicted y and residuals')\n",
    "plt.show()"
   ]
  },
  {
   "cell_type": "code",
   "execution_count": 106,
   "metadata": {},
   "outputs": [],
   "source": [
    "#The equal variancesassumption might be violated since the residual is not constant in every point."
   ]
  },
  {
   "cell_type": "markdown",
   "metadata": {},
   "source": [
    "### 15. [Bonus] Generate a table showing the point estimates, standard errors, t-scores, p-values, and 95% confidence intervals for the model you built. \n",
    "\n",
    "**Write a few sentences interpreting some of the output.**\n",
    "\n",
    "> **Hint:** scikit-learn does not have this functionality built in, but statsmodels does in the `summary` method.  To fit the statsmodels model use something like the following.  There is one big caveat here, however!  `statsmodels.OLS` does _not_ add an intercept to your model, so you will need to do this explicitly by adding a column filled with the number 1 to your X matrix\n",
    "\n",
    "```python\n",
    "import statsmodels.api as sm\n",
    "\n",
    "# The Default here is Linear Regression (ordinary least squares regression OLS)\n",
    "model = sm.OLS(y,X).fit()\n",
    "```"
   ]
  },
  {
   "cell_type": "code",
   "execution_count": 107,
   "metadata": {},
   "outputs": [],
   "source": [
    "#import statsmodels.api as sm\n",
    "#X=sacramento_cleaned_imputed[['sq__ft', 'beds', 'baths', 'type_condo', 'type_multi_family','type_residential']]\n",
    "#X = sm.add_constant(X)\n",
    "#y = sacramento_cleaned_imputed['price']\n",
    "#ols = sm.OLS(y, X).fit()"
   ]
  },
  {
   "cell_type": "code",
   "execution_count": 108,
   "metadata": {},
   "outputs": [],
   "source": [
    "#ols.summary()"
   ]
  },
  {
   "cell_type": "markdown",
   "metadata": {},
   "source": [
    "### 16. Regression Metrics\n",
    "\n",
    "Implement a function called `r2_adj()` that will calculate $R^2_{adj}$ for a model. "
   ]
  },
  {
   "cell_type": "code",
   "execution_count": 109,
   "metadata": {},
   "outputs": [],
   "source": [
    "def r2_adj(X,y):\n",
    "        adj_r2 = 1 - (1-metrics.r2_score(y, y_preds))*len(y-1) / (len(y)-X.shape[1]-1)\n",
    "        return adj_r2"
   ]
  },
  {
   "cell_type": "markdown",
   "metadata": {},
   "source": [
    "### 17. Metrics, metrics, everywhere...\n",
    "\n",
    "Calculate and interpret at least three regression metrics. How well does your model perform?"
   ]
  },
  {
   "cell_type": "code",
   "execution_count": 110,
   "metadata": {},
   "outputs": [
    {
     "data": {
      "text/plain": [
       "0.31568743738687466"
      ]
     },
     "execution_count": 110,
     "metadata": {},
     "output_type": "execute_result"
    }
   ],
   "source": [
    "#R^2 \n",
    "model.score(X_train, y_train)\n"
   ]
  },
  {
   "cell_type": "code",
   "execution_count": 111,
   "metadata": {},
   "outputs": [],
   "source": [
    "#Train scores is better than baseline score\n",
    "# An R^2 value of 0.31 means that 31 % of the variability in housing price is explained by \n",
    "# the house size, number of bedrooms and bathrooms in our model\n",
    "# However, the R^2 value of 0.31 indicates the model is underfitting (high bias)"
   ]
  },
  {
   "cell_type": "code",
   "execution_count": 112,
   "metadata": {},
   "outputs": [
    {
     "data": {
      "text/plain": [
       "15554835857.127129"
      ]
     },
     "execution_count": 112,
     "metadata": {},
     "output_type": "execute_result"
    }
   ],
   "source": [
    "# MSE\n",
    "mean_squared_error(y_test, y_preds)"
   ]
  },
  {
   "cell_type": "code",
   "execution_count": 113,
   "metadata": {},
   "outputs": [],
   "source": [
    "# MSE of 155,5483,5857 represents average distance squared from the predicted value"
   ]
  },
  {
   "cell_type": "code",
   "execution_count": 114,
   "metadata": {},
   "outputs": [
    {
     "data": {
      "text/plain": [
       "124719.02764665514"
      ]
     },
     "execution_count": 114,
     "metadata": {},
     "output_type": "execute_result"
    }
   ],
   "source": [
    "#RMSE\n",
    "mean_squared_error(y_test, y_preds, squared = False)"
   ]
  },
  {
   "cell_type": "code",
   "execution_count": 115,
   "metadata": {},
   "outputs": [],
   "source": [
    "#RMSE of 124719 indicates that on average, the prdicted price is $124719 off from the observed price."
   ]
  },
  {
   "cell_type": "markdown",
   "metadata": {},
   "source": [
    "### 18. Model Iteration\n",
    "\n",
    "Adjust your model by adding or removing a variable. Then calculate the same regression metrics as you used in question 17. Has your model performance increased or decreased?"
   ]
  },
  {
   "cell_type": "markdown",
   "metadata": {},
   "source": [
    "#### 18.1 Model1: updated model with the removal of value of 0"
   ]
  },
  {
   "cell_type": "code",
   "execution_count": 127,
   "metadata": {},
   "outputs": [],
   "source": [
    "#Assemble our X and y variables\n",
    "X= sacramento_drop_0[['sq__ft', 'beds', 'baths', 'type']]\n",
    "X = pd.get_dummies(columns=['type'], drop_first =True, data =X )\n",
    "y = sacramento_drop_0['price']"
   ]
  },
  {
   "cell_type": "code",
   "execution_count": 128,
   "metadata": {},
   "outputs": [],
   "source": [
    "# Train/Test Split\n",
    "X_train, X_test, y_train, y_test = train_test_split(X, y, random_state= 42) "
   ]
  },
  {
   "cell_type": "code",
   "execution_count": 129,
   "metadata": {},
   "outputs": [
    {
     "data": {
      "text/plain": [
       "LinearRegression()"
      ]
     },
     "execution_count": 129,
     "metadata": {},
     "output_type": "execute_result"
    }
   ],
   "source": [
    "#Instantiate the model/Fit Model\n",
    "\n",
    "model = LinearRegression()\n",
    "model.fit(X_train, y_train)"
   ]
  },
  {
   "cell_type": "code",
   "execution_count": 130,
   "metadata": {},
   "outputs": [
    {
     "name": "stdout",
     "output_type": "stream",
     "text": [
      "Train R-squared Score: 0.5104904786590879\n"
     ]
    }
   ],
   "source": [
    "# Train Score\n",
    "model.score(X_train, y_train)\n",
    "print(f'Train R-squared Score: {model.score(X_train, y_train)}')"
   ]
  },
  {
   "cell_type": "code",
   "execution_count": 131,
   "metadata": {},
   "outputs": [],
   "source": [
    "#Train scores is better than baseline score and better than previous model.\n",
    "# An R^2 value of 0.51 means that 51 % of the variability in housing price is explained by \n",
    "# the house size, number of bedrooms and bathrooms in our model (with 0 input removal)\n",
    "# However, the R^2 value of 0.51 indicates the model is relatively underfit (high bias)"
   ]
  },
  {
   "cell_type": "code",
   "execution_count": 132,
   "metadata": {},
   "outputs": [
    {
     "name": "stdout",
     "output_type": "stream",
     "text": [
      "Test R-squared Score: 0.41180661083750125\n"
     ]
    }
   ],
   "source": [
    "# Test Score\n",
    "model.score(X_test, y_test)\n",
    "print(f'Test R-squared Score: {model.score(X_test, y_test)}')"
   ]
  },
  {
   "cell_type": "code",
   "execution_count": 133,
   "metadata": {},
   "outputs": [],
   "source": [
    "#Test score and train scores are fairly close to each other indicating that variance appears not a concern"
   ]
  },
  {
   "cell_type": "code",
   "execution_count": 134,
   "metadata": {},
   "outputs": [
    {
     "data": {
      "text/plain": [
       "array([0.51647255, 0.15090431, 0.52785239, 0.50547008, 0.66547307])"
      ]
     },
     "execution_count": 134,
     "metadata": {},
     "output_type": "execute_result"
    }
   ],
   "source": [
    "# Cross Val Score\n",
    "cross_val_score(model, X_train, y_train, cv =5)"
   ]
  },
  {
   "cell_type": "code",
   "execution_count": 135,
   "metadata": {},
   "outputs": [
    {
     "data": {
      "text/plain": [
       "0.4732344783713051"
      ]
     },
     "execution_count": 135,
     "metadata": {},
     "output_type": "execute_result"
    }
   ],
   "source": [
    "cross_val_score(model, X_train, y_train, cv =5).mean()"
   ]
  },
  {
   "cell_type": "code",
   "execution_count": 136,
   "metadata": {},
   "outputs": [],
   "source": [
    "# There is relatively narrow range of R^2 from cross validation and the mean score is relatively close to test score and train score\n",
    "#The reliabitly of this model is acceptable. "
   ]
  },
  {
   "cell_type": "code",
   "execution_count": 137,
   "metadata": {},
   "outputs": [],
   "source": [
    "#make prediction\n",
    "y_preds = model.predict(X_test)"
   ]
  },
  {
   "cell_type": "code",
   "execution_count": 138,
   "metadata": {},
   "outputs": [
    {
     "name": "stdout",
     "output_type": "stream",
     "text": [
      "R^2 is : 0.5104904786590879\n",
      "MSE is : 7105871041.923587\n",
      "RMSE is : 84296.32875709112\n"
     ]
    }
   ],
   "source": [
    "#evaluate models with matrics\n",
    "print(f'R^2 is : {model.score(X_train,y_train)}' )\n",
    "print(f'MSE is : {mean_squared_error(y_test, y_preds)}' )\n",
    "print(f'RMSE is : {mean_squared_error(y_test, y_preds, squared = False)}' )"
   ]
  },
  {
   "cell_type": "code",
   "execution_count": 139,
   "metadata": {},
   "outputs": [],
   "source": [
    "#The RMSE of this model is lower than previous model indicating that the model is better in predicting housing price. \n",
    "#RMSE of 84296 indicate that on average, the prdicted price is $84296 off from the observed price."
   ]
  },
  {
   "cell_type": "code",
   "execution_count": 140,
   "metadata": {},
   "outputs": [
    {
     "name": "stdout",
     "output_type": "stream",
     "text": [
      "Model intercept 24035.280596196593\n"
     ]
    }
   ],
   "source": [
    "#check the model intercept\n",
    "print(f'Model intercept {model.intercept_}')"
   ]
  },
  {
   "cell_type": "code",
   "execution_count": 141,
   "metadata": {},
   "outputs": [
    {
     "data": {
      "text/plain": [
       "sq__ft                 136.219864\n",
       "beds                -11834.231471\n",
       "baths                 -121.109145\n",
       "type_Multi-Family   -22428.623834\n",
       "type_Residential     30339.636043\n",
       "dtype: float64"
      ]
     },
     "execution_count": 141,
     "metadata": {},
     "output_type": "execute_result"
    }
   ],
   "source": [
    "#check the model coefficient\n",
    "pd.Series(model.coef_, index = X.columns)"
   ]
  },
  {
   "cell_type": "code",
   "execution_count": 142,
   "metadata": {},
   "outputs": [
    {
     "data": {
      "image/png": "[encoded data removed]",
      "text/plain": [
       "<Figure size 432x288 with 1 Axes>"
      ]
     },
     "metadata": {
      "needs_background": "light"
     },
     "output_type": "display_data"
    }
   ],
   "source": [
    "#true price vs the predicted price \n",
    "plt.scatter(y_test, y_preds, s = 1);"
   ]
  },
  {
   "cell_type": "markdown",
   "metadata": {},
   "source": [
    "#### 18.2 Model2: new model with extreme values removal"
   ]
  },
  {
   "cell_type": "code",
   "execution_count": 143,
   "metadata": {},
   "outputs": [
    {
     "data": {
      "image/png": "[encoded data removed]",
      "text/plain": [
       "<Figure size 432x288 with 1 Axes>"
      ]
     },
     "metadata": {
      "needs_background": "light"
     },
     "output_type": "display_data"
    }
   ],
   "source": [
    "#exploring extreme outliers\n",
    "sns.boxplot( x ='price', data=sacramento_drop_0);\n"
   ]
  },
  {
   "cell_type": "code",
   "execution_count": 144,
   "metadata": {
    "scrolled": true
   },
   "outputs": [
    {
     "data": {
      "image/png": "[encoded data removed]",
      "text/plain": [
       "<Figure size 432x288 with 1 Axes>"
      ]
     },
     "metadata": {
      "needs_background": "light"
     },
     "output_type": "display_data"
    },
    {
     "data": {
      "image/png": "[encoded data removed]",
      "text/plain": [
       "<Figure size 432x288 with 1 Axes>"
      ]
     },
     "metadata": {
      "needs_background": "light"
     },
     "output_type": "display_data"
    }
   ],
   "source": [
    "#exploring extreme outliers in each groups\n",
    "sns.boxplot(x='beds', y='price', data=sacramento_drop_0)\n",
    "plt.show()\n",
    "sns.boxplot(x='baths', y='price', data=sacramento_drop_0)\n",
    "plt.show()"
   ]
  },
  {
   "cell_type": "code",
   "execution_count": 145,
   "metadata": {},
   "outputs": [],
   "source": [
    "#Since there are some cases that has large gap between the true price vs the predicted price \n",
    "#Thus, extreme outliers in price with \n",
    "\n",
    "q_low = sacramento_drop_0['price'].quantile(0.01)\n",
    "q_hi  = sacramento_drop_0['price'].quantile(0.99)\n",
    "\n",
    "sacramento_drop_0_filtered = \\\n",
    "sacramento_drop_0[(sacramento_drop_0['price'] < q_hi) & (sacramento_drop_0['price'] > q_low)]"
   ]
  },
  {
   "cell_type": "code",
   "execution_count": 146,
   "metadata": {},
   "outputs": [
    {
     "data": {
      "text/plain": [
       "18"
      ]
     },
     "execution_count": 146,
     "metadata": {},
     "output_type": "execute_result"
    }
   ],
   "source": [
    "#checking number of deleted data \n",
    "sacramento_drop_0.shape[0] - sacramento_drop_0_filtered.shape[0]"
   ]
  },
  {
   "cell_type": "code",
   "execution_count": 147,
   "metadata": {
    "scrolled": false
   },
   "outputs": [
    {
     "data": {
      "image/png": "[encoded data removed]",
      "text/plain": [
       "<Figure size 432x288 with 1 Axes>"
      ]
     },
     "metadata": {
      "needs_background": "light"
     },
     "output_type": "display_data"
    }
   ],
   "source": [
    "#check extreme outliers again\n",
    "sns.boxplot( x ='price', data= sacramento_drop_0_filtered);"
   ]
  },
  {
   "cell_type": "code",
   "execution_count": 148,
   "metadata": {},
   "outputs": [],
   "source": [
    "#Assemble our X and y variables\n",
    "X= sacramento_drop_0_filtered[['sq__ft', 'beds', 'baths', 'type']]\n",
    "X = pd.get_dummies(columns=['type'], drop_first =True, data =X )\n",
    "y = sacramento_drop_0_filtered['price']"
   ]
  },
  {
   "cell_type": "code",
   "execution_count": 149,
   "metadata": {},
   "outputs": [],
   "source": [
    "# Train/Test Split\n",
    "X_train, X_test, y_train, y_test = train_test_split(X, y, random_state= 42) "
   ]
  },
  {
   "cell_type": "code",
   "execution_count": 150,
   "metadata": {},
   "outputs": [
    {
     "data": {
      "text/plain": [
       "LinearRegression()"
      ]
     },
     "execution_count": 150,
     "metadata": {},
     "output_type": "execute_result"
    }
   ],
   "source": [
    "#Instantiate the model/Fit Model\n",
    "from sklearn.linear_model import LinearRegression\n",
    "\n",
    "model = LinearRegression()\n",
    "model.fit(X_train, y_train)"
   ]
  },
  {
   "cell_type": "code",
   "execution_count": 151,
   "metadata": {},
   "outputs": [
    {
     "name": "stdout",
     "output_type": "stream",
     "text": [
      "Train R-squared Score: 0.5742838494995914\n"
     ]
    }
   ],
   "source": [
    "# Train Score\n",
    "model.score(X_train, y_train)\n",
    "print(f'Train R-squared Score: {model.score(X_train, y_train)}')"
   ]
  },
  {
   "cell_type": "code",
   "execution_count": 152,
   "metadata": {},
   "outputs": [],
   "source": [
    "#Train scores is better than baseline score and better than previous model.\n",
    "# An R^2 value of 0.574 means that 57.4 % of the variability in housing price is explained by \n",
    "# the house size, number of bedrooms and bathrooms in our model (with extreme outliers and 0 input removal)\n",
    "# However, the R^2 value of 0.574 indicates the model is relatively underfitting (high bias)"
   ]
  },
  {
   "cell_type": "code",
   "execution_count": 153,
   "metadata": {},
   "outputs": [
    {
     "name": "stdout",
     "output_type": "stream",
     "text": [
      "Test R-squared Score: 0.44757462426747296\n"
     ]
    }
   ],
   "source": [
    "# Test Score\n",
    "model.score(X_test, y_test)\n",
    "print(f'Test R-squared Score: {model.score(X_test, y_test)}')"
   ]
  },
  {
   "cell_type": "code",
   "execution_count": 154,
   "metadata": {},
   "outputs": [],
   "source": [
    "#Test score and train scores are fairly close to each other indicating that variance appears not a concern"
   ]
  },
  {
   "cell_type": "code",
   "execution_count": 155,
   "metadata": {},
   "outputs": [
    {
     "data": {
      "text/plain": [
       "array([0.51219409, 0.55263323, 0.66073133, 0.49878526, 0.54056396])"
      ]
     },
     "execution_count": 155,
     "metadata": {},
     "output_type": "execute_result"
    }
   ],
   "source": [
    "# Cross Val Score\n",
    "cross_val_score(model, X_train, y_train, cv =5)"
   ]
  },
  {
   "cell_type": "code",
   "execution_count": 156,
   "metadata": {},
   "outputs": [],
   "source": [
    "# There is medium range of R^2 from cross validation ranging from 0.49 to 0.66).\n",
    "#The reliabitly of this model is acceptable. "
   ]
  },
  {
   "cell_type": "code",
   "execution_count": 157,
   "metadata": {},
   "outputs": [],
   "source": [
    "#make prediction\n",
    "y_preds = model.predict(X_test)"
   ]
  },
  {
   "cell_type": "code",
   "execution_count": 158,
   "metadata": {
    "scrolled": true
   },
   "outputs": [
    {
     "name": "stdout",
     "output_type": "stream",
     "text": [
      "R^2 is : 0.5742838494995914\n",
      "MSE is : 5792537331.223974\n",
      "RMSE is : 76108.72046765714\n"
     ]
    }
   ],
   "source": [
    "#evaluate models with matrics\n",
    "print(f'R^2 is : {model.score(X_train,y_train)}' )\n",
    "print(f'MSE is : {mean_squared_error(y_test, y_preds)}' )\n",
    "print(f'RMSE is : {mean_squared_error(y_test, y_preds, squared = False)}' )"
   ]
  },
  {
   "cell_type": "code",
   "execution_count": 159,
   "metadata": {},
   "outputs": [],
   "source": [
    "#The RMSE of this model is lower than previous model indicating that the model is better in predicting housing price. \n",
    "#RMSE of 76108 indicate that on average, the prdicted price is $76108 off from the observed price."
   ]
  },
  {
   "cell_type": "code",
   "execution_count": 160,
   "metadata": {},
   "outputs": [
    {
     "name": "stdout",
     "output_type": "stream",
     "text": [
      "Model intercept 43637.175450037525\n"
     ]
    }
   ],
   "source": [
    "#check the model intercept\n",
    "print(f'Model intercept {model.intercept_}')"
   ]
  },
  {
   "cell_type": "code",
   "execution_count": 161,
   "metadata": {
    "scrolled": true
   },
   "outputs": [
    {
     "data": {
      "text/plain": [
       "sq__ft                 150.940054\n",
       "beds                -29462.416377\n",
       "baths                 1605.662444\n",
       "type_Multi-Family   -10772.102765\n",
       "type_Residential     37519.862516\n",
       "dtype: float64"
      ]
     },
     "execution_count": 161,
     "metadata": {},
     "output_type": "execute_result"
    }
   ],
   "source": [
    "#check the model coefficient\n",
    "pd.Series(model.coef_, index = X.columns)"
   ]
  },
  {
   "cell_type": "code",
   "execution_count": 162,
   "metadata": {},
   "outputs": [
    {
     "data": {
      "image/png": "[encoded data removed]",
      "text/plain": [
       "<Figure size 432x288 with 1 Axes>"
      ]
     },
     "metadata": {
      "needs_background": "light"
     },
     "output_type": "display_data"
    }
   ],
   "source": [
    "#true price vs the predicted price \n",
    "plt.scatter(y_test, y_preds, s = 1);"
   ]
  },
  {
   "cell_type": "markdown",
   "metadata": {},
   "source": [
    "#### 18.3 Model 3: new model with adding more variables about location using city"
   ]
  },
  {
   "cell_type": "code",
   "execution_count": 163,
   "metadata": {},
   "outputs": [],
   "source": [
    "#Assemble our X and y variables\n",
    "X=sacramento_drop_0_filtered[['sq__ft', 'beds', 'baths', 'type','city']]\n",
    "X = pd.get_dummies(columns=['type','city'], drop_first =True, data =X )\n",
    "y = sacramento_drop_0_filtered['price']\n"
   ]
  },
  {
   "cell_type": "code",
   "execution_count": 164,
   "metadata": {},
   "outputs": [],
   "source": [
    "# Train/Test Split\n",
    "X_train, X_test, y_train, y_test = train_test_split(X, y, random_state= 42) "
   ]
  },
  {
   "cell_type": "code",
   "execution_count": 165,
   "metadata": {},
   "outputs": [
    {
     "data": {
      "text/plain": [
       "LinearRegression()"
      ]
     },
     "execution_count": 165,
     "metadata": {},
     "output_type": "execute_result"
    }
   ],
   "source": [
    "#Instantiate the model/Fit Model\n",
    "from sklearn.linear_model import LinearRegression\n",
    "\n",
    "model = LinearRegression()\n",
    "model.fit(X_train, y_train)"
   ]
  },
  {
   "cell_type": "code",
   "execution_count": 166,
   "metadata": {
    "scrolled": true
   },
   "outputs": [
    {
     "name": "stdout",
     "output_type": "stream",
     "text": [
      "Train R-squared Score: 0.6018905609964789\n"
     ]
    }
   ],
   "source": [
    "# Train Score\n",
    "model.score(X_train, y_train)\n",
    "print(f'Train R-squared Score: {model.score(X_train, y_train)}')"
   ]
  },
  {
   "cell_type": "code",
   "execution_count": 167,
   "metadata": {},
   "outputs": [],
   "source": [
    "#Train scores is better than baseline score and better than previous model.\n",
    "# An R^2 value of 0.60 means that 60% of the variability in housing price is explained by \n",
    "# the house size, number of bedrooms and bathrooms, and city in our model\n",
    "# However, the R^2 value of 0.60indicates the model is underfitting (high bias)"
   ]
  },
  {
   "cell_type": "code",
   "execution_count": 168,
   "metadata": {},
   "outputs": [
    {
     "name": "stdout",
     "output_type": "stream",
     "text": [
      "Test R-squared Score: 0.4647301337356172\n"
     ]
    }
   ],
   "source": [
    "# Test Score\n",
    "model.score(X_test, y_test)\n",
    "print(f'Test R-squared Score: {model.score(X_test, y_test)}')"
   ]
  },
  {
   "cell_type": "code",
   "execution_count": 169,
   "metadata": {},
   "outputs": [],
   "source": [
    "#Test score and train scores are getting far apart from each others indicating that the variance of the model needed to be considered"
   ]
  },
  {
   "cell_type": "code",
   "execution_count": 170,
   "metadata": {},
   "outputs": [
    {
     "data": {
      "text/plain": [
       "array([0.50695986, 0.56052626, 0.70422979, 0.54688895, 0.56579122])"
      ]
     },
     "execution_count": 170,
     "metadata": {},
     "output_type": "execute_result"
    }
   ],
   "source": [
    "# Cross Val Score\n",
    "cross_val_score(model, X_train, y_train, cv =5)"
   ]
  },
  {
   "cell_type": "code",
   "execution_count": 171,
   "metadata": {},
   "outputs": [],
   "source": [
    "# There is relatively medicore range of R^2 from cross validation ranging from 0.50 to 0.70).\n",
    "#The reliabitly of this model needed to be considered"
   ]
  },
  {
   "cell_type": "code",
   "execution_count": 172,
   "metadata": {},
   "outputs": [],
   "source": [
    "#make prediction\n",
    "y_preds = model.predict(X_test)"
   ]
  },
  {
   "cell_type": "code",
   "execution_count": 173,
   "metadata": {},
   "outputs": [
    {
     "name": "stdout",
     "output_type": "stream",
     "text": [
      "R^2 is : 0.6018905609964789\n",
      "MSE is : 5612650719.573269\n",
      "RMSE is : 74917.6262275659\n"
     ]
    }
   ],
   "source": [
    "#evaluate models with matrics\n",
    "print(f'R^2 is : {model.score(X_train,y_train)}' )\n",
    "print(f'MSE is : {mean_squared_error(y_test, y_preds)}' )\n",
    "print(f'RMSE is : {mean_squared_error(y_test, y_preds, squared = False)}' )"
   ]
  },
  {
   "cell_type": "code",
   "execution_count": 174,
   "metadata": {},
   "outputs": [],
   "source": [
    "#The RMSE of this model is lower than previous model.\n",
    "#RMSE of 74917 indicate that on average, the prdicted price is $74917 off from the observed price."
   ]
  },
  {
   "cell_type": "code",
   "execution_count": 175,
   "metadata": {},
   "outputs": [
    {
     "name": "stdout",
     "output_type": "stream",
     "text": [
      "Model intercept 44428.10624747613\n"
     ]
    }
   ],
   "source": [
    "#check the model intercept\n",
    "print(f'Model intercept {model.intercept_}')"
   ]
  },
  {
   "cell_type": "code",
   "execution_count": 176,
   "metadata": {},
   "outputs": [
    {
     "data": {
      "text/plain": [
       "sq__ft                 147.140638\n",
       "beds                -27743.183202\n",
       "baths                 -306.760903\n",
       "type_Multi-Family    -1886.786229\n",
       "type_Residential     38144.127911\n",
       "city_SACRAMENTO     -12765.823700\n",
       "city_other           26813.221840\n",
       "dtype: float64"
      ]
     },
     "execution_count": 176,
     "metadata": {},
     "output_type": "execute_result"
    }
   ],
   "source": [
    "#check the model coefficient\n",
    "pd.Series(model.coef_, index = X.columns)"
   ]
  },
  {
   "cell_type": "code",
   "execution_count": 177,
   "metadata": {},
   "outputs": [
    {
     "data": {
      "image/png": "[encoded data removed]",
      "text/plain": [
       "<Figure size 432x288 with 1 Axes>"
      ]
     },
     "metadata": {
      "needs_background": "light"
     },
     "output_type": "display_data"
    }
   ],
   "source": [
    "#true price vs the predicted price \n",
    "plt.scatter(y_test, y_preds, s = 1);"
   ]
  },
  {
   "cell_type": "markdown",
   "metadata": {},
   "source": [
    "#### 18.4  Model 4 : new model with more variables about the location of the house using zip code"
   ]
  },
  {
   "cell_type": "code",
   "execution_count": 178,
   "metadata": {
    "scrolled": true
   },
   "outputs": [
    {
     "name": "stderr",
     "output_type": "stream",
     "text": [
      "C:\\Users\\science01\\Anaconda3\\lib\\site-packages\\pandas\\core\\algorithms.py:798: FutureWarning: In a future version, the Index constructor will not infer numeric dtypes when passed object-dtype sequences (matching Series behavior)\n",
      "  uniques = Index(uniques)\n"
     ]
    }
   ],
   "source": [
    "#Assemble our X and y variables\n",
    "X=sacramento_drop_0_filtered[['sq__ft', 'beds', 'baths', 'type','city', 'zip']]\n",
    "X = pd.get_dummies(columns=['type','city','zip'], drop_first =True, data =X )\n",
    "y = sacramento_drop_0_filtered['price']"
   ]
  },
  {
   "cell_type": "code",
   "execution_count": 179,
   "metadata": {},
   "outputs": [],
   "source": [
    "# Train/Test Split\n",
    "X_train, X_test, y_train, y_test = train_test_split(X, y, random_state= 42) "
   ]
  },
  {
   "cell_type": "code",
   "execution_count": 180,
   "metadata": {},
   "outputs": [
    {
     "data": {
      "text/plain": [
       "LinearRegression()"
      ]
     },
     "execution_count": 180,
     "metadata": {},
     "output_type": "execute_result"
    }
   ],
   "source": [
    "#Instantiate the model/Fit Model\n",
    "from sklearn.linear_model import LinearRegression\n",
    "\n",
    "model = LinearRegression()\n",
    "model.fit(X_train, y_train)"
   ]
  },
  {
   "cell_type": "code",
   "execution_count": 181,
   "metadata": {},
   "outputs": [
    {
     "name": "stdout",
     "output_type": "stream",
     "text": [
      "Train R-squared Score: 0.7508152797891675\n"
     ]
    }
   ],
   "source": [
    "# Train Score\n",
    "model.score(X_train, y_train)\n",
    "print(f'Train R-squared Score: {model.score(X_train, y_train)}')"
   ]
  },
  {
   "cell_type": "code",
   "execution_count": 182,
   "metadata": {},
   "outputs": [],
   "source": [
    "#Train scores is better than baseline score and better than previous model.\n",
    "# An R^2 value of 0.75 means that 75% of the variability in housing price is explained by \n",
    "# the house size, number of bedrooms and bathrooms, city, and location of the house using Zip code in our model (with extreme outliers removal)\n",
    "# The R^2 value of 0.75 indicates that the model is better in predicting the data (getting lower in bias)"
   ]
  },
  {
   "cell_type": "code",
   "execution_count": 183,
   "metadata": {},
   "outputs": [
    {
     "name": "stdout",
     "output_type": "stream",
     "text": [
      "Test R-squared Score: 0.5780100017966636\n"
     ]
    }
   ],
   "source": [
    "# Test Score\n",
    "model.score(X_test, y_test)\n",
    "print(f'Test R-squared Score: {model.score(X_test, y_test)}')"
   ]
  },
  {
   "cell_type": "code",
   "execution_count": 184,
   "metadata": {},
   "outputs": [],
   "source": [
    "#The difference between test score and train scores are getting bigger from each other indicating that the model has higher variance: potentially over fitting "
   ]
  },
  {
   "cell_type": "code",
   "execution_count": 185,
   "metadata": {},
   "outputs": [
    {
     "data": {
      "text/plain": [
       "array([0.40503155, 0.62116989, 0.74244246, 0.59544106, 0.69475808])"
      ]
     },
     "execution_count": 185,
     "metadata": {},
     "output_type": "execute_result"
    }
   ],
   "source": [
    "# Cross Val Score\n",
    "cross_val_score(model, X_train, y_train, cv =5)"
   ]
  },
  {
   "cell_type": "code",
   "execution_count": 186,
   "metadata": {},
   "outputs": [
    {
     "data": {
      "text/plain": [
       "0.6117686078508788"
      ]
     },
     "execution_count": 186,
     "metadata": {},
     "output_type": "execute_result"
    }
   ],
   "source": [
    "cross_val_score(model, X_train, y_train, cv =5).mean()"
   ]
  },
  {
   "cell_type": "code",
   "execution_count": 187,
   "metadata": {},
   "outputs": [],
   "source": [
    "# There is relatively bigger range of R^2 from cross validation ranging from 0.40 to 0.74.\n",
    "#The reliabitly of this model starts to be questionable."
   ]
  },
  {
   "cell_type": "code",
   "execution_count": 188,
   "metadata": {},
   "outputs": [],
   "source": [
    "#make prediction\n",
    "y_preds = model.predict(X_test)"
   ]
  },
  {
   "cell_type": "code",
   "execution_count": 189,
   "metadata": {},
   "outputs": [
    {
     "name": "stdout",
     "output_type": "stream",
     "text": [
      "R^2 is : 0.7508152797891675\n",
      "MSE is : 4424838042.160265\n",
      "RMSE is : 66519.45611744179\n"
     ]
    }
   ],
   "source": [
    "#evaluate models with matrics\n",
    "print(f'R^2 is : {model.score(X_train,y_train)}' )\n",
    "print(f'MSE is : {mean_squared_error(y_test, y_preds)}' )\n",
    "print(f'RMSE is : {mean_squared_error(y_test, y_preds, squared = False)}' )"
   ]
  },
  {
   "cell_type": "code",
   "execution_count": 190,
   "metadata": {},
   "outputs": [],
   "source": [
    "#The RMSE of this model is lower than previous model. \n",
    "#RMSE of 66519 indicate that on average, the prdicted price is $66519 off from the observed price."
   ]
  },
  {
   "cell_type": "code",
   "execution_count": 191,
   "metadata": {},
   "outputs": [
    {
     "name": "stdout",
     "output_type": "stream",
     "text": [
      "Model intercept 61873.466369414295\n"
     ]
    }
   ],
   "source": [
    "#check the model intercept\n",
    "print(f'Model intercept {model.intercept_}')"
   ]
  },
  {
   "cell_type": "code",
   "execution_count": 192,
   "metadata": {
    "scrolled": true
   },
   "outputs": [
    {
     "data": {
      "text/plain": [
       "sq__ft                  118.551506\n",
       "beds                 -15697.659363\n",
       "baths                  5926.319265\n",
       "type_Multi-Family      1388.319782\n",
       "type_Residential      42294.022721\n",
       "                         ...      \n",
       "zip_95838            -66733.767753\n",
       "zip_95841             15601.958299\n",
       "zip_95842            -44121.284691\n",
       "zip_95843           -114599.489070\n",
       "zip_95864             69110.351167\n",
       "Length: 72, dtype: float64"
      ]
     },
     "execution_count": 192,
     "metadata": {},
     "output_type": "execute_result"
    }
   ],
   "source": [
    "#check the model coefficient\n",
    "pd.Series(model.coef_, index = X.columns)"
   ]
  },
  {
   "cell_type": "code",
   "execution_count": 193,
   "metadata": {
    "scrolled": false
   },
   "outputs": [
    {
     "data": {
      "image/png": "[encoded data removed]",
      "text/plain": [
       "<Figure size 432x288 with 1 Axes>"
      ]
     },
     "metadata": {
      "needs_background": "light"
     },
     "output_type": "display_data"
    }
   ],
   "source": [
    "#true price vs the predicted price \n",
    "plt.scatter(y_test, y_preds, s = 1);"
   ]
  },
  {
   "cell_type": "markdown",
   "metadata": {},
   "source": [
    "### 19. Bias vs. Variance\n",
    "\n",
    "_(To be completed after the bias-variance tradeoff lecture.)_ At this point, do you think your model is high bias, high variance or in the sweet spot?"
   ]
  },
  {
   "cell_type": "markdown",
   "metadata": {},
   "source": [
    "The test score for Model 4 : modeling using zip code is tend to be overfitting with high variance because the value gap between test score and train scores are relatively wide from each other. After the bias-variance tradeoff consideration, I think model 3: modeling with house size, number of bathrooms, number of bedrooms, type of house and city is relatively in the sweet spot with higher lower bias."
   ]
  }
 ],
 "metadata": {
  "anaconda-cloud": {},
  "kernelspec": {
   "display_name": "Python 3 (ipykernel)",
   "language": "python",
   "name": "python3"
  },
  "language_info": {
   "codemirror_mode": {
    "name": "ipython",
    "version": 3
   },
   "file_extension": ".py",
   "mimetype": "text/x-python",
   "name": "python",
   "nbconvert_exporter": "python",
   "pygments_lexer": "ipython3",
   "version": "3.9.12"
  }
 },
 "nbformat": 4,
 "nbformat_minor": 4
}
